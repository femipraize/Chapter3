{
  "cells": [
    {
      "cell_type": "markdown",
      "metadata": {
        "id": "view-in-github",
        "colab_type": "text"
      },
      "source": [
        "<a href=\"https://colab.research.google.com/github/femipraize/Chapter3/blob/master/GMC_CLASS.ipynb\" target=\"_parent\"><img src=\"https://colab.research.google.com/assets/colab-badge.svg\" alt=\"Open In Colab\"/></a>"
      ]
    },
    {
      "cell_type": "code",
      "execution_count": null,
      "metadata": {
        "colab": {
          "base_uri": "https://localhost:8080/"
        },
        "id": "_HseBWctcGfD",
        "outputId": "78203580-0550-401c-8a18-d1726c7266c9"
      },
      "outputs": [
        {
          "name": "stdout",
          "output_type": "stream",
          "text": [
            "14\n"
          ]
        }
      ],
      "source": [
        "d = 7\n",
        "f = 2\n",
        "\n",
        "print(d * f)"
      ]
    },
    {
      "cell_type": "code",
      "execution_count": null,
      "metadata": {
        "colab": {
          "base_uri": "https://localhost:8080/",
          "height": 53
        },
        "id": "7zMISSzyLh49",
        "outputId": "e8c6d0ed-3e27-4134-80df-af133dbc7314"
      },
      "outputs": [
        {
          "name": "stdout",
          "output_type": "stream",
          "text": [
            "what’s your nameFemi\n"
          ]
        },
        {
          "data": {
            "application/vnd.google.colaboratory.intrinsic+json": {
              "type": "string"
            },
            "text/plain": [
              "'Femi'"
            ]
          },
          "execution_count": 8,
          "metadata": {},
          "output_type": "execute_result"
        }
      ],
      "source": [
        "input(\"what’s your name\")"
      ]
    },
    {
      "cell_type": "code",
      "execution_count": null,
      "metadata": {
        "colab": {
          "base_uri": "https://localhost:8080/"
        },
        "id": "YyDxT_pcQgL0",
        "outputId": "d02c7027-f302-4599-a2eb-0fd3e438eae7"
      },
      "outputs": [
        {
          "name": "stdout",
          "output_type": "stream",
          "text": [
            "hello world! \n",
            "hello world! \n",
            "hello world! \n",
            "\n"
          ]
        }
      ],
      "source": [
        "print('hello world! \\nhello world! \\nhello world! \\n')"
      ]
    },
    {
      "cell_type": "code",
      "execution_count": null,
      "metadata": {
        "colab": {
          "base_uri": "https://localhost:8080/"
        },
        "id": "IpSpgnmGYcbl",
        "outputId": "b4f9e53d-ede4-46c8-b035-d14b4b7cdbc6"
      },
      "outputs": [
        {
          "name": "stdout",
          "output_type": "stream",
          "text": [
            "I amd Femi\n"
          ]
        }
      ],
      "source": [
        "print('I amd ' + 'Femi')"
      ]
    },
    {
      "cell_type": "code",
      "execution_count": null,
      "metadata": {
        "colab": {
          "base_uri": "https://localhost:8080/"
        },
        "id": "T9NESXDaZPBW",
        "outputId": "b61c385b-8ad1-493a-948d-590e758d6fc8"
      },
      "outputs": [
        {
          "name": "stdout",
          "output_type": "stream",
          "text": [
            "age of bola is 90\n"
          ]
        }
      ],
      "source": [
        "print(\"age of bola is\", 90)"
      ]
    },
    {
      "cell_type": "code",
      "execution_count": null,
      "metadata": {
        "colab": {
          "base_uri": "https://localhost:8080/",
          "height": 53
        },
        "id": "CP3CHc9EabjA",
        "outputId": "c07dd58b-2d2f-4317-9dd2-c6a80878f92f"
      },
      "outputs": [
        {
          "name": "stdout",
          "output_type": "stream",
          "text": [
            "Enter Your Age:20\n"
          ]
        },
        {
          "data": {
            "application/vnd.google.colaboratory.intrinsic+json": {
              "type": "string"
            },
            "text/plain": [
              "'20'"
            ]
          },
          "execution_count": 15,
          "metadata": {},
          "output_type": "execute_result"
        }
      ],
      "source": [
        "input(\"Enter Your Age:\")"
      ]
    },
    {
      "cell_type": "code",
      "execution_count": null,
      "metadata": {
        "colab": {
          "base_uri": "https://localhost:8080/"
        },
        "id": "-PxKXRecd8nA",
        "outputId": "ab01dde6-ec58-4cf5-9092-78dbcf7fa4eb"
      },
      "outputs": [
        {
          "name": "stdout",
          "output_type": "stream",
          "text": [
            "Day 1 - String Manipulation\n",
            "String Concatenation is done with the  sign.\n",
            "e.g. print(\"Hello \" + \"world\")\n",
            "New lines can be created with a backslash and n.\n"
          ]
        }
      ],
      "source": [
        "print(\"Day 1 - String Manipulation\")\n",
        "print(\"String Concatenation is done with the \"+\" sign.\")\n",
        "print('e.g. print(\"Hello \" + \"world\")')\n",
        "print(\"New lines can be created with a backslash and n.\")"
      ]
    },
    {
      "cell_type": "code",
      "execution_count": null,
      "metadata": {
        "colab": {
          "base_uri": "https://localhost:8080/"
        },
        "id": "YAZ8LcrHgMTj",
        "outputId": "d9a379fa-a19e-47d7-d510-21668ed037e3"
      },
      "outputs": [
        {
          "name": "stdout",
          "output_type": "stream",
          "text": [
            "Welcome to Gomycode\n",
            "Enter yout First name: Femi\n",
            "Enter your Surname: Ogbangwor\n",
            "Enter your email: jjjj\n",
            "Enter your age: 10\n",
            "Congratulation! Your Profile is complete\n",
            "Femi Ogbangwor jjjj 10\n"
          ]
        }
      ],
      "source": [
        "F = input(\"Welcome to Gomycode\\nEnter yout First name: \")\n",
        "L =input('Enter your Surname: ')\n",
        "Email = input('Enter your email: ')\n",
        "Age = input('Enter your age: ')\n",
        "print('Congratulation! Your Profile is complete')\n",
        "print(F,L,Email,Age)"
      ]
    },
    {
      "cell_type": "markdown",
      "metadata": {
        "id": "KFOsA-4wGwkg"
      },
      "source": [
        "**CONDITIONAL STATEMENT**"
      ]
    },
    {
      "cell_type": "markdown",
      "metadata": {
        "id": "n5ymk_IeLBlQ"
      },
      "source": [
        "**If , else condition :**"
      ]
    },
    {
      "cell_type": "code",
      "execution_count": null,
      "metadata": {
        "colab": {
          "base_uri": "https://localhost:8080/"
        },
        "id": "UBUqJnbOJ7FO",
        "outputId": "5340b53e-610c-4b4b-a2a6-9cd12844d934"
      },
      "outputs": [
        {
          "name": "stdout",
          "output_type": "stream",
          "text": [
            "3 is a positive number.\n",
            "This is always printed.\n"
          ]
        }
      ],
      "source": [
        "num =3\n",
        "if num > 0:\n",
        "\tprint(num, \"is a positive number.\")\n",
        "\tprint(\"This is always printed.\")"
      ]
    },
    {
      "cell_type": "markdown",
      "metadata": {
        "id": "Iq-8u25SK0kK"
      },
      "source": [
        "**Nested if statements and elif statements :**"
      ]
    },
    {
      "cell_type": "code",
      "execution_count": null,
      "metadata": {
        "colab": {
          "base_uri": "https://localhost:8080/"
        },
        "id": "PeJpKbTuh3Xg",
        "outputId": "ebb97e81-acb4-41f2-fbb2-a52c146b8cef"
      },
      "outputs": [
        {
          "name": "stdout",
          "output_type": "stream",
          "text": [
            "X = 11\n"
          ]
        }
      ],
      "source": [
        "x=11\n",
        "if x==1:\n",
        "      print('X is equal to 1')\n",
        "elif x==5:\n",
        "      print('X is equal to 5')\n",
        "elif x==10:\n",
        "      print('X is equal to 10')\n",
        "else:\n",
        "      print('X =', x)"
      ]
    },
    {
      "cell_type": "code",
      "execution_count": null,
      "metadata": {
        "colab": {
          "base_uri": "https://localhost:8080/"
        },
        "id": "GCLSguscLBgX",
        "outputId": "7aef6821-9ffe-42d7-f9cb-6a82477dc3d5"
      },
      "outputs": [
        {
          "name": "stdout",
          "output_type": "stream",
          "text": [
            "Discount applied.\n"
          ]
        }
      ],
      "source": [
        "order_total = 150\n",
        "customer_membership = True\n",
        "\n",
        "if order_total >= 100 and customer_membership == True:\n",
        "    print(\"Discount applied.\")\n",
        "else:\n",
        "    print(\"Discount not applied.\")"
      ]
    },
    {
      "cell_type": "code",
      "execution_count": null,
      "metadata": {
        "colab": {
          "base_uri": "https://localhost:8080/"
        },
        "id": "0KMlaN4jL9Il",
        "outputId": "6ba10b37-be16-4bd6-a91d-b849028926c0"
      },
      "outputs": [
        {
          "name": "stdout",
          "output_type": "stream",
          "text": [
            "Free shipping applied.\n"
          ]
        }
      ],
      "source": [
        "order_total = 25\n",
        "customer_location = \"USA\"\n",
        "\n",
        "if order_total >= 50 or customer_location == \"USA\":\n",
        "    print(\"Free shipping applied.\")\n",
        "else:\n",
        "    print(\"Shipping fee applied.\")"
      ]
    },
    {
      "cell_type": "code",
      "execution_count": null,
      "metadata": {
        "colab": {
          "base_uri": "https://localhost:8080/"
        },
        "id": "3Tbj8xiWMe7-",
        "outputId": "58051972-2801-453b-cc09-9421cd9f3b19"
      },
      "outputs": [
        {
          "name": "stdout",
          "output_type": "stream",
          "text": [
            "Customer is a member.\n"
          ]
        }
      ],
      "source": [
        "is_member = True\n",
        "\n",
        "if not is_member:\n",
        "    print(\"Customer is not a member.\")\n",
        "else:\n",
        "    print(\"Customer is a member.\")"
      ]
    },
    {
      "cell_type": "code",
      "execution_count": null,
      "metadata": {
        "colab": {
          "base_uri": "https://localhost:8080/"
        },
        "id": "Dq-8XKBMNVeS",
        "outputId": "19749a39-85f6-4a78-b591-452786827840"
      },
      "outputs": [
        {
          "name": "stdout",
          "output_type": "stream",
          "text": [
            "Enter number6\n",
            "Number is even and not greater than 10\n"
          ]
        }
      ],
      "source": [
        "number = int(input('Enter number'))\n",
        "if number%2 == 0 and number < 10:\n",
        "      print(\"Number is even and not greater than 10\")\n",
        "elif number%2 == 0 and number > 10:\n",
        "      print(\"Number is even tand greater than 10\")\n",
        "# elif number%2 == 0 or number > 10:\n",
        "#       print(\"Number is also even\")\n",
        "elif number%2 == 1:\n",
        "      print(\"Number is odd\")\n",
        "else:\n",
        "    print('i')\n",
        "\n"
      ]
    },
    {
      "cell_type": "code",
      "execution_count": null,
      "metadata": {
        "colab": {
          "base_uri": "https://localhost:8080/"
        },
        "id": "TNMmBQxuPApK",
        "outputId": "49b4c2b9-73a5-4287-cf93-e0955ddb3c73"
      },
      "outputs": [
        {
          "name": "stdout",
          "output_type": "stream",
          "text": [
            "Enter the status of wheather. E.g Rain or shiny shiny\n",
            "I will go to churcn\n"
          ]
        }
      ],
      "source": [
        "status = input('Enter the status of wheather. E.g Rain or shiny') #input\n",
        "\n",
        "#conditional statement\n",
        "if status == 'Rain':\n",
        "  print('I will not go to church')\n",
        "else:\n",
        "  print('I will go to churcn')"
      ]
    },
    {
      "cell_type": "code",
      "execution_count": null,
      "metadata": {
        "colab": {
          "base_uri": "https://localhost:8080/"
        },
        "id": "cg972gxaRi6v",
        "outputId": "ef6226be-f844-4533-eaff-e47ea19ff2d3"
      },
      "outputs": [
        {
          "name": "stdout",
          "output_type": "stream",
          "text": [
            "Is food ready?: is ready\n",
            "Food will be served soon\n"
          ]
        }
      ],
      "source": [
        "order =input('Is food ready?: ')\n",
        "if order == 'is ready':\n",
        "  print('Food will be served soon')\n",
        "else:\n",
        "  print(\"your food won't be served soon\")"
      ]
    },
    {
      "cell_type": "code",
      "execution_count": null,
      "metadata": {
        "colab": {
          "base_uri": "https://localhost:8080/"
        },
        "id": "irhoavrAZP3A",
        "outputId": "4e8d880d-b40f-43e8-dffd-39197f012fa6"
      },
      "outputs": [
        {
          "data": {
            "text/plain": [
              "False"
            ]
          },
          "execution_count": 10,
          "metadata": {},
          "output_type": "execute_result"
        }
      ],
      "source": [
        "False and False"
      ]
    },
    {
      "cell_type": "markdown",
      "metadata": {
        "id": "yEwNoljEediI"
      },
      "source": [
        "**Number manipulation :**"
      ]
    },
    {
      "cell_type": "code",
      "execution_count": null,
      "metadata": {
        "colab": {
          "base_uri": "https://localhost:8080/"
        },
        "id": "YdViz8Wxc9Wq",
        "outputId": "22d79de3-64ef-4b87-aaa8-acececba9757"
      },
      "outputs": [
        {
          "name": "stdout",
          "output_type": "stream",
          "text": [
            "3\n"
          ]
        }
      ],
      "source": [
        "print(round(8/3))"
      ]
    },
    {
      "cell_type": "code",
      "execution_count": null,
      "metadata": {
        "colab": {
          "base_uri": "https://localhost:8080/"
        },
        "id": "Qo4dJtLVejhN",
        "outputId": "ab81c46f-6f0d-4369-84d8-1238a7778d94"
      },
      "outputs": [
        {
          "name": "stdout",
          "output_type": "stream",
          "text": [
            "1.0\n"
          ]
        }
      ],
      "source": [
        "Result = 4/2\n",
        "Result /=2\n",
        "print(Result)"
      ]
    },
    {
      "cell_type": "markdown",
      "metadata": {
        "id": "ZiDPRaIWfPnb"
      },
      "source": [
        "**String manipulation **"
      ]
    },
    {
      "cell_type": "code",
      "execution_count": null,
      "metadata": {
        "colab": {
          "base_uri": "https://localhost:8080/"
        },
        "id": "4TMgO9A8e4MY",
        "outputId": "0d531c85-44be-4886-f48f-bfc6c74e41ec"
      },
      "outputs": [
        {
          "name": "stdout",
          "output_type": "stream",
          "text": [
            "Your score is 15\n"
          ]
        }
      ],
      "source": [
        "Score = 15\n",
        "print(f\"Your score is {Score}\")"
      ]
    },
    {
      "cell_type": "markdown",
      "metadata": {
        "id": "H7YEC1R9gILa"
      },
      "source": [
        "**Instructions :**\n",
        "Create a program using maths and f-Strings that tells us how many days, weeks, months we have left if we live until 90 years old.\n",
        "It will take your current age as the input and output a message with our time left in this format :\n",
        "\n",
        "You have x days, y weeks, and z months left.\n",
        "Where x, y and z are replaced with the actual calculated numbers.\n",
        "Example Input :\n",
        "56\n",
        "Example Output:\n",
        "You have 12410 days, 1768 weeks, and 408 months left."
      ]
    },
    {
      "cell_type": "code",
      "execution_count": null,
      "metadata": {
        "colab": {
          "base_uri": "https://localhost:8080/"
        },
        "id": "LuFdS0YnflM0",
        "outputId": "7fcb04b6-6443-4a8e-b414-efc823bc7db4"
      },
      "outputs": [
        {
          "name": "stdout",
          "output_type": "stream",
          "text": [
            "Enter Current Age: 90\n",
            " You have 0 days, 0 weeks left and 0 months left\n"
          ]
        }
      ],
      "source": [
        "current_age = int(input('Enter Current Age: '))\n",
        "maxAge =90 -current_age\n",
        "year =365\n",
        "week = 52\n",
        "month = 12\n",
        "number_of_days_left = maxAge * year\n",
        "number_of_weeks_left = maxAge * week\n",
        "number_of_months_left = maxAge * month\n",
        "print(f\" You have {number_of_days_left} days, {number_of_weeks_left} weeks left and {number_of_months_left} months left\")\n"
      ]
    },
    {
      "cell_type": "markdown",
      "metadata": {
        "id": "roacX6buisZo"
      },
      "source": [
        "As a pythoneer or pythonista, create a python program that gives the grade of a person. E.g if a person gets above 70%, print 'You got A', if a person gets between 60% and 69%, print 'You got B',\n",
        " if a person gets between 50% and 59%, print 'You got C',\n",
        " if a person gets between 45% and 49%, print 'You got D',\n",
        " if a person gets between 40% and 44%, print 'You got E',\n",
        " if a person gets between 0% and 39%, print 'You got F',\n",
        "everything else should be printed as invalid. Use the input function to get the number from the user and wrap with float.\n"
      ]
    },
    {
      "cell_type": "code",
      "execution_count": null,
      "metadata": {
        "colab": {
          "base_uri": "https://localhost:8080/"
        },
        "id": "a4H_1YnrVKc1",
        "outputId": "262bff19-2d7c-4d0e-b5f7-18584628fc2f"
      },
      "outputs": [
        {
          "name": "stdout",
          "output_type": "stream",
          "text": [
            "Enter Score: 19000\n",
            "not within range\n"
          ]
        }
      ],
      "source": [
        "\n",
        "student_grade = float(input('Enter Score: '))\n",
        "if student_grade >= 70 and  student_grade <= 100:\n",
        "  print('Your Got A')\n",
        "elif student_grade >= 60 and student_grade < 70:\n",
        "  print('Your Got B')\n",
        "elif student_grade >= 50 and student_grade < 60:\n",
        "  print('Your Got C')\n",
        "elif student_grade >= 45 and student_grade < 50:\n",
        "  print('You Got D')\n",
        "elif student_grade >= 40 and student_grade < 45:\n",
        "  print('You Got F')\n",
        "elif student_grade >= 0 and student_grade < 40:\n",
        "  print('You Got F')\n",
        "else:\n",
        "  print('not within range')\n"
      ]
    },
    {
      "cell_type": "markdown",
      "metadata": {
        "id": "1LsBDtarY35U"
      },
      "source": [
        "Python **statements**\n",
        "\n",
        "Multiline statement"
      ]
    },
    {
      "cell_type": "code",
      "execution_count": null,
      "metadata": {
        "colab": {
          "base_uri": "https://localhost:8080/"
        },
        "id": "iC9B_VJ1X2lf",
        "outputId": "d3f49055-70b3-4070-af98-1807faadb015"
      },
      "outputs": [
        {
          "name": "stdout",
          "output_type": "stream",
          "text": [
            "45\n"
          ]
        }
      ],
      "source": [
        "a = 1 + 2 + 3 + \\\n",
        "    4 + 5 + 6 + \\\n",
        "    7 + 8 + 9\n",
        "print(a)"
      ]
    },
    {
      "cell_type": "code",
      "execution_count": null,
      "metadata": {
        "colab": {
          "base_uri": "https://localhost:8080/"
        },
        "id": "rWi7ux0pZOun",
        "outputId": "ed62ab6e-f1c1-4533-a6d3-9b5876e30b7e"
      },
      "outputs": [
        {
          "name": "stdout",
          "output_type": "stream",
          "text": [
            "45\n"
          ]
        }
      ],
      "source": [
        "a = (1 + 2 + 3 +\n",
        "    4 + 5 + 6 +\n",
        "    7 + 8 + 9)\n",
        "print(a)"
      ]
    },
    {
      "cell_type": "code",
      "execution_count": null,
      "metadata": {
        "colab": {
          "base_uri": "https://localhost:8080/"
        },
        "id": "T6FswvM4Z6qi",
        "outputId": "8bdbd3e4-9809-42e6-80d2-eeeb990b5365"
      },
      "outputs": [
        {
          "name": "stdout",
          "output_type": "stream",
          "text": [
            "['red', 'blue', 'green']\n"
          ]
        }
      ],
      "source": [
        "colors = ['red',\n",
        "          'blue',\n",
        "          'green']\n",
        "\n",
        "print(colors)"
      ]
    },
    {
      "cell_type": "code",
      "execution_count": null,
      "metadata": {
        "id": "neZcn1gsa3Zq"
      },
      "outputs": [],
      "source": [
        "a = 1; b = 2; c = 3"
      ]
    },
    {
      "cell_type": "markdown",
      "metadata": {
        "id": "rEdw1AdTbwmt"
      },
      "source": [
        "**Indentation in Python**"
      ]
    },
    {
      "cell_type": "code",
      "execution_count": null,
      "metadata": {
        "colab": {
          "background_save": true
        },
        "id": "e-K8Pdtabuil",
        "outputId": "394f138d-3746-4566-8c1b-a6323449fd0b"
      },
      "outputs": [
        {
          "name": "stdout",
          "output_type": "stream",
          "text": [
            "1\n",
            "2\n",
            "3\n",
            "4\n",
            "5\n",
            "6\n",
            "7\n",
            "8\n",
            "9\n",
            "10\n"
          ]
        }
      ],
      "source": []
    },
    {
      "cell_type": "code",
      "source": [
        "9 // 2"
      ],
      "metadata": {
        "colab": {
          "base_uri": "https://localhost:8080/"
        },
        "id": "X1AsKovLtsdj",
        "outputId": "fef52733-b81a-4096-cc68-2346978bf4c7"
      },
      "execution_count": null,
      "outputs": [
        {
          "output_type": "execute_result",
          "data": {
            "text/plain": [
              "4"
            ]
          },
          "metadata": {},
          "execution_count": 1
        }
      ]
    },
    {
      "cell_type": "markdown",
      "source": [
        "**Python Primitive Data Types**"
      ],
      "metadata": {
        "id": "g4Dn9LXQt61a"
      }
    },
    {
      "cell_type": "code",
      "source": [
        "my_string = \"Welcome to python\"\n",
        "print(my_string)\n",
        "print(\"my_string[0] = \", my_string[0])  #first character                my_string[0] =  W\n",
        "print(\"my_string[-1] = \", my_string[-1]) #last character               my_string[-1] =  n"
      ],
      "metadata": {
        "colab": {
          "base_uri": "https://localhost:8080/"
        },
        "id": "fANFvbP8ttUm",
        "outputId": "7fc05434-6475-4e05-9200-1dd53271baa5"
      },
      "execution_count": null,
      "outputs": [
        {
          "output_type": "stream",
          "name": "stdout",
          "text": [
            "Welcome to python\n",
            "my_string[0] =  W\n",
            "my_string[-1] =  n\n"
          ]
        }
      ]
    },
    {
      "cell_type": "code",
      "source": [
        "print(\"my_string[1:5] = \", my_string[1:5])  #slicing 2nd to 5th character                 my_string[1:5] =  elco\n",
        "print(\"my_string[5:-2] = \", my_string[5:-2])   #slicing 6th to 2nd last character"
      ],
      "metadata": {
        "colab": {
          "base_uri": "https://localhost:8080/"
        },
        "id": "v1QV8c36xTGj",
        "outputId": "ea967e25-0998-43e6-cbf6-32c900a17b14"
      },
      "execution_count": null,
      "outputs": [
        {
          "output_type": "stream",
          "name": "stdout",
          "text": [
            "my_string[1:5] =  elco\n",
            "my_string[5:-2] =  me to pyth\n"
          ]
        }
      ]
    },
    {
      "cell_type": "code",
      "source": [
        "#Step wise slicing\n",
        "new_string = 'I Am Happy'\n",
        "new_string[0:17:2]"
      ],
      "metadata": {
        "colab": {
          "base_uri": "https://localhost:8080/",
          "height": 35
        },
        "id": "zWLYt0hrEUXj",
        "outputId": "72f95baa-d07c-486d-9568-304d23f56269"
      },
      "execution_count": null,
      "outputs": [
        {
          "output_type": "execute_result",
          "data": {
            "text/plain": [
              "'IA ap'"
            ],
            "application/vnd.google.colaboratory.intrinsic+json": {
              "type": "string"
            }
          },
          "metadata": {},
          "execution_count": 12
        }
      ]
    },
    {
      "cell_type": "code",
      "source": [
        "#reverse Slicing\n",
        "new_string[::-2]"
      ],
      "metadata": {
        "colab": {
          "base_uri": "https://localhost:8080/",
          "height": 35
        },
        "id": "BV0R4zOKGASw",
        "outputId": "55b0374f-bf4a-4955-da79-fa5c50847de3"
      },
      "execution_count": null,
      "outputs": [
        {
          "output_type": "execute_result",
          "data": {
            "text/plain": [
              "'ypHm '"
            ],
            "application/vnd.google.colaboratory.intrinsic+json": {
              "type": "string"
            }
          },
          "metadata": {},
          "execution_count": 13
        }
      ]
    },
    {
      "cell_type": "markdown",
      "source": [],
      "metadata": {
        "id": "r_Xp8X-cD3ZC"
      }
    },
    {
      "cell_type": "markdown",
      "source": [
        "**String Operations**"
      ],
      "metadata": {
        "id": "1AP6ZuHyyPP2"
      }
    },
    {
      "cell_type": "code",
      "source": [
        "str1 = \"Welcome to \"\n",
        "str2 =\"coding world!\"\n",
        "print(\"str1 + str2 = \", str1 + str2)     #str1 + str2 =  Welcome to coding world!"
      ],
      "metadata": {
        "colab": {
          "base_uri": "https://localhost:8080/"
        },
        "id": "8vyK8117yIo-",
        "outputId": "66123fb6-aab5-44cf-82b6-b3ebce8292fa"
      },
      "execution_count": null,
      "outputs": [
        {
          "output_type": "stream",
          "name": "stdout",
          "text": [
            "str1 + str2 =  Welcome to coding world!\n"
          ]
        }
      ]
    },
    {
      "cell_type": "code",
      "source": [
        "my_string = \"welcome to python\"\n",
        "print(len(my_string))     #17\n",
        "\n",
        "# How do i get typelenth"
      ],
      "metadata": {
        "colab": {
          "base_uri": "https://localhost:8080/"
        },
        "id": "40lMG3Ho0BXB",
        "outputId": "708d25e8-e633-47fa-e4b9-c27d704e4d8e"
      },
      "execution_count": null,
      "outputs": [
        {
          "output_type": "stream",
          "name": "stdout",
          "text": [
            "17\n"
          ]
        }
      ]
    },
    {
      "cell_type": "markdown",
      "source": [
        "**Integers :**"
      ],
      "metadata": {
        "id": "C520wgAU06DH"
      }
    },
    {
      "cell_type": "code",
      "source": [
        "my_integer = 1,2,3\n",
        "print(my_integer )\n"
      ],
      "metadata": {
        "colab": {
          "base_uri": "https://localhost:8080/"
        },
        "id": "C5hwKRqp00Cj",
        "outputId": "2530c049-4839-4f60-bb9b-57911868ded1"
      },
      "execution_count": null,
      "outputs": [
        {
          "output_type": "stream",
          "name": "stdout",
          "text": [
            "(1, 2, 3)\n"
          ]
        }
      ]
    },
    {
      "cell_type": "markdown",
      "source": [
        "Floats :\n",
        "**bold text**"
      ],
      "metadata": {
        "id": "dotdVFeC1iVL"
      }
    },
    {
      "cell_type": "code",
      "source": [
        "My_floats  = 1.256234\n",
        "print(My_floats)"
      ],
      "metadata": {
        "colab": {
          "base_uri": "https://localhost:8080/"
        },
        "id": "v0SjG4qi1hBw",
        "outputId": "6314cd2f-719f-4ab1-dc9e-0f2f8742be6b"
      },
      "execution_count": null,
      "outputs": [
        {
          "output_type": "stream",
          "name": "stdout",
          "text": [
            "1.256234\n"
          ]
        }
      ]
    },
    {
      "cell_type": "markdown",
      "source": [
        "**Booleans :**"
      ],
      "metadata": {
        "id": "TEaqozoQ2BTR"
      }
    },
    {
      "cell_type": "code",
      "source": [
        "x = True\n",
        "y = False\n",
        "y = 10 > 9\n",
        "x = 10 < 9\n",
        "print(f\"y is {y} and x is {y}\")"
      ],
      "metadata": {
        "colab": {
          "base_uri": "https://localhost:8080/"
        },
        "id": "Dmi0p6yL1tAJ",
        "outputId": "cc0d1a19-cfef-45f1-8f64-fa56280aa032"
      },
      "execution_count": null,
      "outputs": [
        {
          "output_type": "stream",
          "name": "stdout",
          "text": [
            "y is True and x is True\n"
          ]
        }
      ]
    },
    {
      "cell_type": "code",
      "source": [
        "print((2>5) == (6>2))"
      ],
      "metadata": {
        "colab": {
          "base_uri": "https://localhost:8080/"
        },
        "id": "dYp7a5Fv2Gby",
        "outputId": "f61c5607-0268-4597-fdc8-563972bc0f43"
      },
      "execution_count": null,
      "outputs": [
        {
          "output_type": "stream",
          "name": "stdout",
          "text": [
            "False\n"
          ]
        }
      ]
    },
    {
      "cell_type": "code",
      "source": [
        "string2 = \"123456\"\n",
        "print(len(string2))"
      ],
      "metadata": {
        "colab": {
          "base_uri": "https://localhost:8080/"
        },
        "id": "aWePGTCG3plj",
        "outputId": "667a301d-8936-4f42-95fb-6a3e964cd96b"
      },
      "execution_count": null,
      "outputs": [
        {
          "output_type": "stream",
          "name": "stdout",
          "text": [
            "6\n"
          ]
        }
      ]
    },
    {
      "cell_type": "markdown",
      "source": [
        "**Type Conversion**"
      ],
      "metadata": {
        "id": "38GevUa794NK"
      }
    },
    {
      "cell_type": "code",
      "source": [
        "float(5) #conversion from integer to float\n",
        "float(\"2.5\") #conversion from string to float\n",
        "str(25) #conversion from integer to string\n",
        "#int(\"2z\") #conversion impossible, string must contain compatible values"
      ],
      "metadata": {
        "colab": {
          "base_uri": "https://localhost:8080/",
          "height": 35
        },
        "id": "gN55GI863vBj",
        "outputId": "fe5e14fe-c04f-43f2-8b64-2fa8f6bc89ef"
      },
      "execution_count": null,
      "outputs": [
        {
          "output_type": "execute_result",
          "data": {
            "text/plain": [
              "'25'"
            ],
            "application/vnd.google.colaboratory.intrinsic+json": {
              "type": "string"
            }
          },
          "metadata": {},
          "execution_count": 23
        }
      ]
    },
    {
      "cell_type": "markdown",
      "source": [
        "Instructions :\n",
        "Write a program that adds the digits in a 2 digit number. e.g. if the input was 35, then the output should be 3 + 5 = 8\n",
        "**Example Input : **\n",
        "\n",
        "39\n",
        "\n",
        "** Example Output**\n",
        "\n",
        "3 + 9 = 12\n",
        "\n",
        "Hint\n",
        "\n",
        "Try to find out the data type of two_digit_number.\n",
        "Think about what you learnt about subscripting.\n",
        "Think about type conversion."
      ],
      "metadata": {
        "id": "9l8IxSLi-ho8"
      }
    },
    {
      "cell_type": "code",
      "source": [
        "#two_digit_number = input('Enter number: ')\n",
        "#print(int(two_digit_number[0])+ two_digit_number[1]+ two_digit_number[2])\n",
        "\n",
        "\n",
        "# if len(two_digit_number) == 2:\n",
        "#   print(int(two_digit_number[0])+ two_digit_number[1])\n",
        "# elif len(two_digit_number) == 3:\n",
        "#   print(int(two_digit_number[0])+ two_digit_number[1])\n",
        "\n",
        "\n",
        "\n",
        " # print('The datatype is ',type())"
      ],
      "metadata": {
        "id": "AU-bd9pV-pHH"
      },
      "execution_count": null,
      "outputs": []
    },
    {
      "cell_type": "code",
      "source": [
        "type(Result1+Result2)"
      ],
      "metadata": {
        "colab": {
          "base_uri": "https://localhost:8080/"
        },
        "id": "OhlW_EnRA-8w",
        "outputId": "795b5c25-3f25-4a60-da33-793468a33768"
      },
      "execution_count": null,
      "outputs": [
        {
          "output_type": "execute_result",
          "data": {
            "text/plain": [
              "int"
            ]
          },
          "metadata": {},
          "execution_count": 17
        }
      ]
    },
    {
      "cell_type": "markdown",
      "source": [
        "**Check_Point_Task**"
      ],
      "metadata": {
        "id": "wKbhhs7rCx93"
      }
    },
    {
      "cell_type": "code",
      "source": [
        "# Define pizza prices and add-ons\n",
        "small_pizza= 15\n",
        "medium_pizza= 20\n",
        "large_pizza= 25\n",
        "Add_Pepperoni_for_Small_Pizza = 2\n",
        "Add_Pepperoni_for_Medium_or_Large_Pizza = 3\n",
        "Extra_Cheese = 1\n",
        "\n",
        "#Welcome message\n",
        "print('Welcome to Python Pizza Deliveries')\n",
        "\n",
        "# Input from the user\n",
        "size = input('What size of pizza would you like? (S, M, L): ').upper()\n",
        "add_pepperoni = input('Would you like to add pepperoni? (Y or N): ').upper()\n",
        "extra_cheese= input('Would you like extra cheese? (Y or N): ').upper()\n",
        "\n",
        "\n",
        "#Conditions to print final bill\n",
        "if size == 'S' and add_pepperoni == 'N' and extra_cheese == 'N':\n",
        "  print(f'Your final bill is: ${small_pizza}')\n",
        "elif size == 'S'and add_pepperoni == 'Y' and extra_cheese == 'N':\n",
        "  print(f'Your final bill is: ${small_pizza+Add_Pepperoni_for_Small_Pizza}')\n",
        "elif size == 'S'and add_pepperoni == 'N' and extra_cheese == 'Y':\n",
        "  print(f'Your final bill is: ${small_pizza+ Extra_Cheese}')\n",
        "elif size == 'S'and add_pepperoni == 'Y' and extra_cheese == 'Y':\n",
        "  print(f'Your final bill is: ${small_pizza+Add_Pepperoni_for_Small_Pizza+ Extra_Cheese}')\n",
        "elif size == 'L'and add_pepperoni == 'Y' and extra_cheese == 'Y':\n",
        "  print(f'Your final bill is: ${large_pizza+Add_Pepperoni_for_Medium_or_Large_Pizza+ Extra_Cheese}')\n",
        "elif size == 'L'and add_pepperoni == 'Y' and extra_cheese == 'N':\n",
        "  print(f'Your final bill is: ${large_pizza+Add_Pepperoni_for_Medium_or_Large_Pizza}')\n",
        "elif size == 'L'and add_pepperoni == 'N' and extra_cheese == 'Y':\n",
        "  print(f'Your final bill is: ${large_pizza+ Extra_Cheese}')\n",
        "elif size == 'L'and add_pepperoni == 'N' and extra_cheese == 'N':\n",
        "  print(f'Your final bill is: ${large_pizza}')\n",
        "elif size == 'M'and add_pepperoni == 'Y' and extra_cheese == 'Y':\n",
        "  print(f'Your final bill is: ${medium_pizza+Add_Pepperoni_for_Small_Pizza+ Extra_Cheese}')\n",
        "elif size == 'M'and add_pepperoni == 'Y' and extra_cheese == 'N':\n",
        "  print(f'Your final bill is: ${medium_pizza+Add_Pepperoni_for_Medium_or_Large_Pizza}')\n",
        "elif size == 'M'and add_pepperoni == 'N' and extra_cheese == 'Y':\n",
        "  print(f'Your final bill is: ${medium_pizza+ Extra_Cheese}')\n",
        "elif size == 'M'and add_pepperoni == 'N' and extra_cheese == 'N':\n",
        "  print(f'Your final bill is: ${medium_pizza}')\n",
        "else:\n",
        " #default statement for Out of range conditions\n",
        "  print('Order not within Range, Please Select order within range.')\n",
        "\n",
        "\n"
      ],
      "metadata": {
        "id": "IE74m0cYPwQ8",
        "colab": {
          "base_uri": "https://localhost:8080/"
        },
        "outputId": "c40536c5-0a48-4b8a-a97d-5c237fffdd81"
      },
      "execution_count": null,
      "outputs": [
        {
          "output_type": "stream",
          "name": "stdout",
          "text": [
            "Welcome to Python Pizza Deliveries\n",
            "What size of pizza would you like? (S, M, L): m\n",
            "Would you like to add pepperoni? (Y or N): y\n",
            "Would you like extra cheese? (Y or N): n\n",
            "Your final bill is: $23\n"
          ]
        }
      ]
    },
    {
      "cell_type": "code",
      "source": [
        "# Define pizza prices and add-ons\n",
        "pizza_prices = {'S': 15, 'M': 20, 'L': 25}\n",
        "pepperoni_prices = {'S': 2, 'M': 3, 'L': 3}\n",
        "extra_cheese_price = 1\n",
        "\n",
        "# Input from the user\n",
        "print('Welcome to Python Pizza Deliveries')\n",
        "size = input('What size of pizza would you like? (S, M, L): ').upper()\n",
        "add_pepperoni = input('Would you like to add pepperoni? (Y or N): ').upper()\n",
        "extra_cheese = input('Would you like extra cheese? (Y or N): ').upper()\n",
        "\n",
        "# Calculate the final bill\n",
        "final_bill = pizza_prices[size]\n",
        "if add_pepperoni == 'Y':\n",
        "    final_bill += pepperoni_prices[size]\n",
        "if extra_cheese == 'Y':\n",
        "    final_bill += extra_cheese_price\n",
        "\n",
        "# Print the final bill\n",
        "print(f'Your final bill is: ${final_bill}')"
      ],
      "metadata": {
        "colab": {
          "base_uri": "https://localhost:8080/"
        },
        "id": "yq0Phha5EElQ",
        "outputId": "3a804eda-8a31-47ee-c32f-65e04cf19ce8"
      },
      "execution_count": null,
      "outputs": [
        {
          "output_type": "stream",
          "name": "stdout",
          "text": [
            "Welcome to Python Pizza Deliveries\n",
            "What size of pizza would you like? (S, M, L): S\n",
            "Would you like to add pepperoni? (Y or N): Y\n",
            "Would you like extra cheese? (Y or N): Y\n",
            "Your final bill is: $18\n"
          ]
        }
      ]
    },
    {
      "cell_type": "markdown",
      "source": [
        "**LIST**"
      ],
      "metadata": {
        "id": "uuQACZJuOXqh"
      }
    },
    {
      "cell_type": "code",
      "source": [
        "my_list = [] # empty list\n",
        "my_list = [1, 2, 3] # list of integers\n",
        "my_list = [1, \"Hello\", 3.4]  # list with mixed datatypes\n",
        "my_list = [\"python\", \"java\", \"SQL\", \"C++\"] # list of strings"
      ],
      "metadata": {
        "id": "im594JyL1Nnt"
      },
      "execution_count": null,
      "outputs": []
    },
    {
      "cell_type": "markdown",
      "source": [
        "**How to manipulate lists**"
      ],
      "metadata": {
        "id": "w-C5vVf3P6fQ"
      }
    },
    {
      "cell_type": "code",
      "source": [
        "my_list = [\"python\", \"java\", \"SQL\",\"R\", \"SAS\", \"C++\", \"php\", \"html\"]\n",
        "#Accessing items:\n",
        "#You access the list items by referring to the index number\n",
        "\n",
        "print(my_list[1])    #refers to the secod item         \"java\"\n",
        "#Negative Indexing\n",
        "print(my_list[-1]) #refers to the last item           \"html\"\n",
        "#Slicing\n",
        "print(my_list[2:5])     #extraction from the third to the fifth item       ['SQL', 'R', 'SAS']\n",
        "\n",
        "#Add Items\n",
        "\n",
        "#To add an item to the end of the list, use the append() method:\n",
        "\n",
        "my_list.append(\"Matlab\")       #add \"Matlab\" at the end of the list\n",
        "print(my_list)      # ['python', 'java', 'SQL', 'R', 'SAS', 'C++', 'php', 'html', 'Matlab']\n",
        "#To add an item at the specified index, use the insert() method:\n",
        "\n",
        "my_list.insert(1,\"Spark\")      #add \"Spark\" in the second position\n",
        "print(my_list)       #['python', 'Spark', 'java', 'SQL', 'R', 'SAS', 'C++', 'php', 'html', 'Matlab']\n",
        "#Get list length\n",
        "\n",
        "print(len(my_list))      #8\n",
        "\n",
        "\n",
        "#Change Item Value\n",
        "\n",
        "my_list[1]=\"Scala\"     #change the second item(spark) by \"Scala\"\n",
        "print(my_list)       #['python', 'Scala', 'java', 'SQL', 'R', 'SAS', 'C++', 'php', 'html', 'Matlab']\n",
        "#Remove Items\n",
        "#We use the remove() method to remove a specified item.\n",
        "\n",
        "my_list.remove(\"java\")    #remove the item \"java\"\n",
        "print(my_list)       #['python', 'Scala', 'SQL', 'R', 'SAS', 'C++', 'php', 'html', 'Matlab']\n",
        "#We use the del keyword to removes a specified index.\n",
        "\n",
        "del my_list[0]      #remove the item with 0 index (python)\n",
        "print(my_list)      #['Scala', 'SQL', 'R', 'SAS', 'C++', 'php', 'html', 'Matlab']"
      ],
      "metadata": {
        "colab": {
          "base_uri": "https://localhost:8080/"
        },
        "id": "N-g-juNmQNKH",
        "outputId": "32566117-53fa-48ff-8562-bec89157597a"
      },
      "execution_count": null,
      "outputs": [
        {
          "output_type": "stream",
          "name": "stdout",
          "text": [
            "java\n",
            "html\n",
            "['SQL', 'R', 'SAS']\n",
            "['python', 'java', 'SQL', 'R', 'SAS', 'C++', 'php', 'html', 'Matlab']\n",
            "['python', 'Spark', 'java', 'SQL', 'R', 'SAS', 'C++', 'php', 'html', 'Matlab']\n",
            "10\n",
            "['python', 'Scala', 'java', 'SQL', 'R', 'SAS', 'C++', 'php', 'html', 'Matlab']\n",
            "['python', 'Scala', 'SQL', 'R', 'SAS', 'C++', 'php', 'html', 'Matlab']\n",
            "['Scala', 'SQL', 'R', 'SAS', 'C++', 'php', 'html', 'Matlab']\n"
          ]
        }
      ]
    },
    {
      "cell_type": "markdown",
      "source": [
        "**Class_Task**\n",
        "\n",
        "Write a python program that gets the full name and age of a user. if the first character of the user's fullname is 'O',\n",
        "print 'Popular Name', else print 'Not a popular name'.\n",
        "Also, if the age of the user is greater than 18, print 'Allowed' else print 'Not allowed'.\n",
        "Ensure that you created two empty lists such that you can append the results of the name and age in each of them."
      ],
      "metadata": {
        "id": "hP16oqaFdu-u"
      }
    },
    {
      "cell_type": "code",
      "source": [
        "name_list = []\n",
        "age_list = []"
      ],
      "metadata": {
        "id": "Nw8qFeo0lg9q"
      },
      "execution_count": null,
      "outputs": []
    },
    {
      "cell_type": "code",
      "source": [
        "\n",
        "full_name= input('Enter your full name: ').upper()\n",
        "age = int(input('Enter your age: '))\n",
        "if full_name[0] == 'O':\n",
        "  print('Popular Name')\n",
        "else:\n",
        "  print( 'Not a popular name')\n",
        "if age >= 18:\n",
        "  print('Allowed')\n",
        "else:\n",
        "  print('Not allowed')\n",
        "\n",
        "name_list.append(full_name)\n",
        "age_list.append(age)\n",
        "\n",
        "print(name_list)\n",
        "print(age_list)\n",
        "\n"
      ],
      "metadata": {
        "colab": {
          "base_uri": "https://localhost:8080/"
        },
        "id": "NuEWhVubf3Eo",
        "outputId": "206a923d-375c-4f69-e976-181c558763c3"
      },
      "execution_count": null,
      "outputs": [
        {
          "output_type": "stream",
          "name": "stdout",
          "text": [
            "Enter your full name: ooa \n",
            "Enter your age: 29\n",
            "Popular Name\n",
            "Allowed\n",
            "['OGB ', 'OOA ']\n",
            "[17, 29]\n"
          ]
        }
      ]
    },
    {
      "cell_type": "markdown",
      "source": [
        "**Dictionary**"
      ],
      "metadata": {
        "id": "vQ5fFF6pbLKb"
      }
    },
    {
      "cell_type": "code",
      "source": [
        "my_dictionary =\t{\"knowledge\": \"Data Science\",\"tool\": \"python\",\"year\": 2020}"
      ],
      "metadata": {
        "id": "mz0Ur-qmSR5x"
      },
      "execution_count": null,
      "outputs": []
    },
    {
      "cell_type": "code",
      "source": [
        "for key in my_dictionary.keys():    # Loop Through dictionary keys\n",
        "   print(key)\n",
        "for value in my_dictionary.values():    #  Loop Through dictionary values\n",
        "   print(value)\n",
        "for item in my_dictionary.items():     # Loop Through dictionary items\n",
        "   print(item)\n",
        "\n",
        "#Get dictionary Length\n",
        "\n",
        "print(len(my_dictionary))     #3\n",
        "#How to manipulate dictionary\n",
        "#Adding Items\n",
        "\n",
        "my_dictionary =\t{\"knowledge\": \"Data Science\",\"tool\": \"python\",\"year\": 2020}\n",
        "my_dictionary[\"learn\"] = True  #add True value with \"learn\" key\n",
        "print(my_dictionary)       #{'knowledge': 'Data Science', 'tool': 'python', 'year': 2020, 'learn': True}\n",
        "#Removing Items\n",
        "\n",
        "my_dictionary.pop(\"tool\")     #remove \"tool\" item\n",
        "print(my_dictionary)    # {'knowledge': 'Data Science', 'year': 2020, 'learn': True}\n",
        "#Deleting the whole dictionary\n",
        "\n",
        "del my_dictionary"
      ],
      "metadata": {
        "colab": {
          "base_uri": "https://localhost:8080/"
        },
        "id": "cHwXIaC4QY6a",
        "outputId": "81667c73-799b-4169-9d0c-601c735c3992"
      },
      "execution_count": null,
      "outputs": [
        {
          "output_type": "stream",
          "name": "stdout",
          "text": [
            "knowledge\n",
            "tool\n",
            "year\n",
            "Data Science\n",
            "python\n",
            "2020\n",
            "('knowledge', 'Data Science')\n",
            "('tool', 'python')\n",
            "('year', 2020)\n",
            "3\n",
            "{'knowledge': 'Data Science', 'tool': 'python', 'year': 2020, 'learn': True}\n",
            "{'knowledge': 'Data Science', 'year': 2020, 'learn': True}\n"
          ]
        }
      ]
    },
    {
      "cell_type": "code",
      "source": [
        "my_dictionary =\t{\"knowledge\": \"Data Science\",\"tool\": \"python\",\"year\": 2020}"
      ],
      "metadata": {
        "id": "eaH73ajBklMv"
      },
      "execution_count": null,
      "outputs": []
    },
    {
      "cell_type": "code",
      "source": [
        "my_dictionary.update({'masters': 'Business Analytics'})"
      ],
      "metadata": {
        "id": "ZS9FSnDPFcIQ"
      },
      "execution_count": null,
      "outputs": []
    },
    {
      "cell_type": "code",
      "source": [
        "my_dictionary"
      ],
      "metadata": {
        "colab": {
          "base_uri": "https://localhost:8080/"
        },
        "id": "pP8PTCq7jyfN",
        "outputId": "ffba4c6f-c2b0-4a64-e727-1d113f0962ab"
      },
      "execution_count": null,
      "outputs": [
        {
          "output_type": "execute_result",
          "data": {
            "text/plain": [
              "{'knowledge': 'Data Science',\n",
              " 'tool': 'python',\n",
              " 'year': 2020,\n",
              " 'masters': 'Business Analytics'}"
            ]
          },
          "metadata": {},
          "execution_count": 18
        }
      ]
    },
    {
      "cell_type": "markdown",
      "source": [
        "**SET**"
      ],
      "metadata": {
        "id": "ASpeW4Cry3nC"
      }
    },
    {
      "cell_type": "code",
      "source": [
        "my_set = {\"python\", \"java\", \"R\"}\n",
        "my_set.add(\"scala\")    #add \"scala\" to the set\n",
        "print(my_set)    #{'scala', 'python', 'java', 'R'}"
      ],
      "metadata": {
        "colab": {
          "base_uri": "https://localhost:8080/"
        },
        "id": "HWYCOrerkupF",
        "outputId": "f264d2a2-a2d7-4c1a-f969-81e036487f1f"
      },
      "execution_count": null,
      "outputs": [
        {
          "output_type": "stream",
          "name": "stdout",
          "text": [
            "{'java', 'scala', 'python', 'R'}\n"
          ]
        }
      ]
    },
    {
      "cell_type": "code",
      "source": [
        "my_set.remove(\"R\")    #remove \"R\" item\n",
        "print(my_set)    #{'scala', 'python', 'java'}"
      ],
      "metadata": {
        "colab": {
          "base_uri": "https://localhost:8080/"
        },
        "id": "ymqhrFrBzGVx",
        "outputId": "7d120315-daf7-4b3b-e28b-50ac3f8cd487"
      },
      "execution_count": null,
      "outputs": [
        {
          "output_type": "stream",
          "name": "stdout",
          "text": [
            "{'java', 'scala', 'python'}\n"
          ]
        }
      ]
    },
    {
      "cell_type": "code",
      "source": [
        "del my_set"
      ],
      "metadata": {
        "id": "uhstbbugzjPF"
      },
      "execution_count": null,
      "outputs": []
    },
    {
      "cell_type": "markdown",
      "source": [
        "**Tuple**"
      ],
      "metadata": {
        "id": "A9eXTs4Gz_F1"
      }
    },
    {
      "cell_type": "code",
      "source": [],
      "metadata": {
        "id": "iLyLRJrezsVo"
      },
      "execution_count": null,
      "outputs": []
    },
    {
      "cell_type": "code",
      "source": [
        "my_tuple=(\"python\", \"java\", \"R\")\n",
        "print(my_tuple[0])"
      ],
      "metadata": {
        "colab": {
          "base_uri": "https://localhost:8080/"
        },
        "id": "nmlX6UvJ0D-y",
        "outputId": "e7f42954-5017-42e2-bf24-fb52115d3da4"
      },
      "execution_count": null,
      "outputs": [
        {
          "output_type": "stream",
          "name": "stdout",
          "text": [
            "python\n"
          ]
        }
      ]
    },
    {
      "cell_type": "code",
      "source": [
        "tuple1 = (\"a\", \"b\" , \"c\")\n",
        "tuple2 = (1, 2, 3)\n",
        "tuple3 = tuple1 + tuple2     #join the two tuples by + operator\n",
        "print(tuple3)     #('a', 'b', 'c', 1, 2, 3)"
      ],
      "metadata": {
        "colab": {
          "base_uri": "https://localhost:8080/"
        },
        "id": "lccRFp5k0jKs",
        "outputId": "583e0a86-f67e-4c36-e861-84a80ac59eb3"
      },
      "execution_count": null,
      "outputs": [
        {
          "output_type": "stream",
          "name": "stdout",
          "text": [
            "('a', 'b', 'c', 1, 2, 3)\n"
          ]
        }
      ]
    },
    {
      "cell_type": "markdown",
      "source": [
        "**Instructions :**\n",
        "**Tuples:**\n",
        "\n",
        "Create a tuple called \"person\" that contains a string \"John\" as a name, 25 as an age and \"male\" as a gender.\n",
        "Print the name of the person\n",
        "Try to change the age of the person and see what happens.\n",
        "Lists:\n",
        "Create a list called \"grocery_list\" that contains \"milk\", \"bread\", \"eggs\", \"bananas\"\n",
        "Print the first item in the grocery_list.\n",
        "Add \"chocolate\" to the grocery_list\n",
        "Remove \"milk\" from the grocery_list\n",
        "Sets:\n",
        "Create a set called \"unique_numbers\" that contains the integers 1, 2, 3, 4, 5\n",
        "Add number 6 to the unique_numbers\n",
        "Print the length of the unique_numbers\n",
        "Try to add a duplicate number and see what happens\n",
        "Dictionaries:\n",
        "Create a dictionary called \"employee\" that contains the keys \"name\", \"age\", \"position\" and \"salary\", with their corresponding values \"John\", 25, \"Developer\" and 3000 respectively.\n",
        "Print the employee's name\n",
        "Change the employee's position to \"Manager\"\n",
        "Add a new key \"email\" with the value \"john@example.com\" to the employee dictionary\n"
      ],
      "metadata": {
        "id": "pvDRPT5t1X5-"
      }
    },
    {
      "cell_type": "code",
      "source": [
        "person =('Jonh',25, 'male',)\n",
        "print(person)"
      ],
      "metadata": {
        "colab": {
          "base_uri": "https://localhost:8080/"
        },
        "id": "hhu4pq4e1IKe",
        "outputId": "93c14932-ca8f-4480-cf1e-d7fa0853834c"
      },
      "execution_count": null,
      "outputs": [
        {
          "output_type": "stream",
          "name": "stdout",
          "text": [
            "('Jonh', 25, 'male')\n"
          ]
        }
      ]
    },
    {
      "cell_type": "code",
      "source": [
        "grocery_list = ['milk', 'bread', 'eggs','bananas']\n",
        "print(grocery_list)\n",
        "print(grocery_list[0])\n",
        "grocery_list.append('chocolate')\n",
        "grocery_list.remove('milk')\n",
        "print(grocery_list)\n",
        "\n"
      ],
      "metadata": {
        "colab": {
          "base_uri": "https://localhost:8080/"
        },
        "id": "hbnZBYuH2K2J",
        "outputId": "35121785-514f-4573-c0f9-f75417acfbd1"
      },
      "execution_count": null,
      "outputs": [
        {
          "output_type": "stream",
          "name": "stdout",
          "text": [
            "['milk', 'bread', 'eggs', 'bananas']\n",
            "milk\n",
            "['bread', 'eggs', 'bananas', 'chocolate']\n"
          ]
        }
      ]
    },
    {
      "cell_type": "code",
      "source": [
        "unique_numbers = {1,2,3,4,5}\n",
        "unique_numbers.add(6)\n",
        "print(unique_numbers)\n",
        "print('Lenght of unique numbers is: ', len(unique_numbers))\n",
        "unique_numbers.add(5) #adding a duplicate number to the dictionary(set)\n"
      ],
      "metadata": {
        "colab": {
          "base_uri": "https://localhost:8080/"
        },
        "id": "lqSVlhF7uMpu",
        "outputId": "c886fa56-4276-4b46-e37d-34127d6c0a11"
      },
      "execution_count": null,
      "outputs": [
        {
          "output_type": "stream",
          "name": "stdout",
          "text": [
            "{1, 2, 3, 4, 5, 6}\n",
            "Lenght of unique numbers is:  6\n"
          ]
        }
      ]
    },
    {
      "cell_type": "code",
      "source": [
        "\n",
        "#creating a dictionary\n",
        "employee = {'name': 'Jonh','age': 25,'position': 'Developer','salary': 3000 }\n",
        "print(employee['name'])\n",
        "employee.update({'position':'Manager'})\n",
        "employee\n",
        "\n",
        "employee.update({'email':'john@example.com'})\n",
        "employee\n"
      ],
      "metadata": {
        "colab": {
          "base_uri": "https://localhost:8080/"
        },
        "id": "rDfdMuu0uUyE",
        "outputId": "6dd99a01-534e-4d42-c2ab-bcfda81b492c"
      },
      "execution_count": null,
      "outputs": [
        {
          "output_type": "stream",
          "name": "stdout",
          "text": [
            "Jonh\n"
          ]
        },
        {
          "output_type": "execute_result",
          "data": {
            "text/plain": [
              "{'name': 'Jonh',\n",
              " 'age': 25,\n",
              " 'position': 'Manager',\n",
              " 'salary': 3000,\n",
              " 'email': 'john@example.com'}"
            ]
          },
          "metadata": {},
          "execution_count": 3
        }
      ]
    },
    {
      "cell_type": "markdown",
      "source": [
        "**randomization and loops**"
      ],
      "metadata": {
        "id": "UZ3zhL5OPMfb"
      }
    },
    {
      "cell_type": "markdown",
      "source": [],
      "metadata": {
        "id": "hbG2kDYTuRi6"
      }
    },
    {
      "cell_type": "code",
      "source": [],
      "metadata": {
        "id": "B1pyUOK5BYqZ"
      },
      "execution_count": null,
      "outputs": []
    },
    {
      "cell_type": "code",
      "source": [
        "import random\n",
        "Random_integer = random.randint(1,10)\n",
        "print(Random_integer)"
      ],
      "metadata": {
        "colab": {
          "base_uri": "https://localhost:8080/"
        },
        "id": "v4XucgKM5pNy",
        "outputId": "31c25de6-b6cf-4756-a73d-bc3a08db1700"
      },
      "execution_count": null,
      "outputs": [
        {
          "output_type": "stream",
          "name": "stdout",
          "text": [
            "2\n"
          ]
        }
      ]
    },
    {
      "cell_type": "code",
      "source": [
        "random.choice(['H','T','Head','Tail'])"
      ],
      "metadata": {
        "colab": {
          "base_uri": "https://localhost:8080/",
          "height": 35
        },
        "id": "vbWWDxdwhmAs",
        "outputId": "043d11e0-2fc7-4a6f-ab49-c145d4fe7cbc"
      },
      "execution_count": null,
      "outputs": [
        {
          "output_type": "execute_result",
          "data": {
            "text/plain": [
              "'Tail'"
            ],
            "application/vnd.google.colaboratory.intrinsic+json": {
              "type": "string"
            }
          },
          "metadata": {},
          "execution_count": 3
        }
      ]
    },
    {
      "cell_type": "code",
      "source": [],
      "metadata": {
        "id": "zQbWwHJWDur4"
      },
      "execution_count": null,
      "outputs": []
    },
    {
      "cell_type": "code",
      "source": [],
      "metadata": {
        "id": "8lm7XBzbDujG"
      },
      "execution_count": null,
      "outputs": []
    },
    {
      "cell_type": "code",
      "source": [
        "random.randrange(1,20,2)"
      ],
      "metadata": {
        "colab": {
          "base_uri": "https://localhost:8080/"
        },
        "id": "IgSW1IJ2ikjR",
        "outputId": "b25030db-8db0-4dfb-9d22-035ffabc7e6a"
      },
      "execution_count": null,
      "outputs": [
        {
          "output_type": "execute_result",
          "data": {
            "text/plain": [
              "5"
            ]
          },
          "metadata": {},
          "execution_count": 5
        }
      ]
    },
    {
      "cell_type": "code",
      "source": [
        "random.randrange(0, 20)"
      ],
      "metadata": {
        "colab": {
          "base_uri": "https://localhost:8080/"
        },
        "id": "REV5c8q6iTi5",
        "outputId": "9aad18cf-1b9e-4cd4-96ad-8c990d90c21c"
      },
      "execution_count": null,
      "outputs": [
        {
          "output_type": "execute_result",
          "data": {
            "text/plain": [
              "17"
            ]
          },
          "metadata": {},
          "execution_count": 4
        }
      ]
    },
    {
      "cell_type": "markdown",
      "source": [
        "Task to do random"
      ],
      "metadata": {
        "id": "lW9TG9VSeh84"
      }
    },
    {
      "cell_type": "code",
      "source": [],
      "metadata": {
        "id": "RiK7_Lf-Pg7o"
      },
      "execution_count": null,
      "outputs": []
    },
    {
      "cell_type": "markdown",
      "source": [
        "**For loop :**"
      ],
      "metadata": {
        "id": "Wpe_oHvBmdpy"
      }
    },
    {
      "cell_type": "code",
      "source": [
        "fruits = ['apple','peach','pear']\n",
        "for fruit in fruits :\n",
        "\tprint(fruit)"
      ],
      "metadata": {
        "colab": {
          "base_uri": "https://localhost:8080/"
        },
        "id": "vIxRjncberFE",
        "outputId": "9066d372-dc67-4e5a-97ab-b26bdbe01420"
      },
      "execution_count": null,
      "outputs": [
        {
          "output_type": "stream",
          "name": "stdout",
          "text": [
            "apple\n",
            "peach\n",
            "pear\n",
            "1\n"
          ]
        }
      ]
    },
    {
      "cell_type": "code",
      "source": [
        "students = ['femi', 'Idris', 'Ikenna', 'Demiji','Cynthia']\n",
        "for student in students:\n",
        "  for char in student:\n",
        "    print(char)\n",
        "    print('--')\n",
        "    print (student)"
      ],
      "metadata": {
        "colab": {
          "base_uri": "https://localhost:8080/"
        },
        "id": "LObzuXz3nX9C",
        "outputId": "e227e702-cb39-439b-c15f-fa2a2f66068f"
      },
      "execution_count": null,
      "outputs": [
        {
          "output_type": "stream",
          "name": "stdout",
          "text": [
            "f\n",
            "--\n",
            "femi\n",
            "e\n",
            "--\n",
            "femi\n",
            "m\n",
            "--\n",
            "femi\n",
            "i\n",
            "--\n",
            "femi\n",
            "I\n",
            "--\n",
            "Idris\n",
            "d\n",
            "--\n",
            "Idris\n",
            "r\n",
            "--\n",
            "Idris\n",
            "i\n",
            "--\n",
            "Idris\n",
            "s\n",
            "--\n",
            "Idris\n",
            "I\n",
            "--\n",
            "Ikenna\n",
            "k\n",
            "--\n",
            "Ikenna\n",
            "e\n",
            "--\n",
            "Ikenna\n",
            "n\n",
            "--\n",
            "Ikenna\n",
            "n\n",
            "--\n",
            "Ikenna\n",
            "a\n",
            "--\n",
            "Ikenna\n",
            "D\n",
            "--\n",
            "Demiji\n",
            "e\n",
            "--\n",
            "Demiji\n",
            "m\n",
            "--\n",
            "Demiji\n",
            "i\n",
            "--\n",
            "Demiji\n",
            "j\n",
            "--\n",
            "Demiji\n",
            "i\n",
            "--\n",
            "Demiji\n",
            "C\n",
            "--\n",
            "Cynthia\n",
            "y\n",
            "--\n",
            "Cynthia\n",
            "n\n",
            "--\n",
            "Cynthia\n",
            "t\n",
            "--\n",
            "Cynthia\n",
            "h\n",
            "--\n",
            "Cynthia\n",
            "i\n",
            "--\n",
            "Cynthia\n",
            "a\n",
            "--\n",
            "Cynthia\n"
          ]
        }
      ]
    },
    {
      "cell_type": "code",
      "source": [
        "for value in range(1,11):\n",
        "  print(value)"
      ],
      "metadata": {
        "colab": {
          "base_uri": "https://localhost:8080/"
        },
        "id": "MrcX9yiku_R0",
        "outputId": "825fd1bb-66df-49d5-aed0-da640c5d4bfb"
      },
      "execution_count": null,
      "outputs": [
        {
          "output_type": "stream",
          "name": "stdout",
          "text": [
            "1\n",
            "2\n",
            "3\n",
            "4\n",
            "5\n",
            "6\n",
            "7\n",
            "8\n",
            "9\n",
            "10\n"
          ]
        }
      ]
    },
    {
      "cell_type": "code",
      "source": [
        "for i in range(6,15):\n",
        "  print(i)"
      ],
      "metadata": {
        "colab": {
          "base_uri": "https://localhost:8080/"
        },
        "id": "XXdqziS7vjw_",
        "outputId": "6605d5fc-b73c-4b14-e349-766f28ce44a6"
      },
      "execution_count": null,
      "outputs": [
        {
          "output_type": "stream",
          "name": "stdout",
          "text": [
            "6\n",
            "7\n",
            "8\n",
            "9\n",
            "10\n",
            "11\n",
            "12\n",
            "13\n",
            "14\n"
          ]
        }
      ]
    },
    {
      "cell_type": "code",
      "source": [
        "for b in range(1,15,3):\n",
        "  print(b)"
      ],
      "metadata": {
        "colab": {
          "base_uri": "https://localhost:8080/"
        },
        "id": "W8VrLOLsweIa",
        "outputId": "5af48c2c-0244-4cb2-d480-3a6bb056b528"
      },
      "execution_count": null,
      "outputs": [
        {
          "output_type": "stream",
          "name": "stdout",
          "text": [
            "1\n",
            "4\n",
            "7\n",
            "10\n",
            "13\n"
          ]
        }
      ]
    },
    {
      "cell_type": "code",
      "source": [
        "student_scores = [78, 65, 89, 86, 55, 91, 64, 89]\n",
        "highest_score = 0\n",
        "for score in student_scores:\n",
        "  if score > highest_score:\n",
        "    highest_score = score\n",
        "print(highest_score)\n"
      ],
      "metadata": {
        "colab": {
          "base_uri": "https://localhost:8080/"
        },
        "id": "HNTmUR8kw5q5",
        "outputId": "ca534422-c163-4cd3-aada-49bf279498dd"
      },
      "execution_count": null,
      "outputs": [
        {
          "output_type": "stream",
          "name": "stdout",
          "text": [
            "91\n"
          ]
        }
      ]
    },
    {
      "cell_type": "code",
      "source": [
        "sorted(student_scores) [-1]"
      ],
      "metadata": {
        "colab": {
          "base_uri": "https://localhost:8080/"
        },
        "id": "iAWaaORX9Zpq",
        "outputId": "4cb5978e-6282-46b6-ae83-5ff34ed8dc2f"
      },
      "execution_count": null,
      "outputs": [
        {
          "output_type": "execute_result",
          "data": {
            "text/plain": [
              "91"
            ]
          },
          "metadata": {},
          "execution_count": 22
        }
      ]
    },
    {
      "cell_type": "code",
      "source": [
        "sorted(student_scores) [0]"
      ],
      "metadata": {
        "colab": {
          "base_uri": "https://localhost:8080/"
        },
        "id": "vsVmVDMG96I1",
        "outputId": "dc328ced-018e-45a9-dfea-6399e3029b5a"
      },
      "execution_count": null,
      "outputs": [
        {
          "output_type": "execute_result",
          "data": {
            "text/plain": [
              "55"
            ]
          },
          "metadata": {},
          "execution_count": 23
        }
      ]
    },
    {
      "cell_type": "code",
      "source": [
        "namelist = ['Femi', 'Thomos', 'Fuad', 'Taiwo', 'Tunde']\n",
        "for name in namelist:\n",
        "  print(name, end=' ')"
      ],
      "metadata": {
        "colab": {
          "base_uri": "https://localhost:8080/"
        },
        "id": "jzQoJ8Tz9_tu",
        "outputId": "033cb7d0-80b9-4571-a48f-718235519bdb"
      },
      "execution_count": null,
      "outputs": [
        {
          "output_type": "stream",
          "name": "stdout",
          "text": [
            "Femi Thomos Fuad Taiwo Tunde "
          ]
        }
      ]
    },
    {
      "cell_type": "code",
      "source": [
        "for outter_loop in range(5):\n",
        "  for inner_loop in range(1,6):\n",
        "    print(inner_loop, end='')\n",
        "  print()"
      ],
      "metadata": {
        "colab": {
          "base_uri": "https://localhost:8080/"
        },
        "id": "b5swUx7ROYHr",
        "outputId": "1941a573-115d-4d4b-a494-ba2005e3f61c"
      },
      "execution_count": null,
      "outputs": [
        {
          "output_type": "stream",
          "name": "stdout",
          "text": [
            "12345\n",
            "12345\n",
            "12345\n",
            "12345\n",
            "12345\n"
          ]
        }
      ]
    },
    {
      "cell_type": "code",
      "source": [
        "rows = int(input('Enter the number of rows: '))\n",
        "columns = int(input('Enter the number of colum: '))\n",
        "symbol = input('Enter the type of symbols to make up you square')\n",
        "for num_rolls in range(rows):\n",
        "  for num_cols in range(columns):\n",
        "    print(symbol, end='')\n",
        "  print()"
      ],
      "metadata": {
        "colab": {
          "base_uri": "https://localhost:8080/"
        },
        "id": "Her1ojq6ZQLX",
        "outputId": "e989fa33-5fe9-4fb3-c61f-a67b3bf5bfed"
      },
      "execution_count": null,
      "outputs": [
        {
          "output_type": "stream",
          "name": "stdout",
          "text": [
            "Enter the number of rows: 5\n",
            "Enter the number of colum: 5\n",
            "Enter the type of symbols to make up you square6\n",
            "66666\n",
            "66666\n",
            "66666\n",
            "66666\n",
            "66666\n"
          ]
        }
      ]
    },
    {
      "cell_type": "code",
      "source": [],
      "metadata": {
        "id": "jMijy5exboIN"
      },
      "execution_count": null,
      "outputs": []
    },
    {
      "cell_type": "markdown",
      "source": [
        "1. Initialize variables:\n",
        "   - year, month (input from user)\n",
        "   - daysInMonth (to store number of days in the month)\n",
        "   - firstDayOfWeek (to store the day of the week for the first day of the month)\n",
        "\n",
        "2. Get input from the user:\n",
        "   Display \"Enter the year:\"\n",
        "   Read year from user\n",
        "   Display \"Enter the month (1-12):\"\n",
        "   Read month from user\n",
        "\n",
        "3. Validate input:\n",
        "   Check if year is a valid number and month is between 1 and 12\n",
        "   If input is invalid, display error message and exit\n",
        "\n",
        "4. Determine the number of days in the month:\n",
        "   If month is February\n",
        "       If year is leap year\n",
        "           Set daysInMonth to 29\n",
        "       Else\n",
        "           Set daysInMonth to 28\n",
        "   Else if month has 31 days\n",
        "       Set daysInMonth to 31\n",
        "   Else\n",
        "       Set daysInMonth to 30\n",
        "\n",
        "5. Determine the day of the week for the first day of the month:\n",
        "   Use a formula or lookup table based on the year and month to find the day of the week for the first day\n",
        "\n",
        "6. Display the calendar:\n",
        "   Display the month and year\n",
        "   Display the days of the week (Sun, Mon, Tue, etc.)\n",
        "   Display empty spaces for days before the first day of the month\n",
        "   Start counting from 1 to daysInMonth, displaying each day in the correct position under the corresponding day of the week\n",
        "   Add empty spaces after the last day of the month to complete the calendar layout\n",
        "\n",
        "7. End program\n"
      ],
      "metadata": {
        "id": "JuVzI19YPVo6"
      }
    },
    {
      "cell_type": "code",
      "source": [
        "year = int(input('Enter the Year: '))\n",
        "#array to store number of days in each month\n",
        "daysInMonth =[]\n",
        "#array to store day of the week for the first day of each month\n",
        "firstDayOfWeek =[]\n",
        "\n",
        "\n"
      ],
      "metadata": {
        "id": "eEqa5j-ZPXzj"
      },
      "execution_count": null,
      "outputs": []
    },
    {
      "cell_type": "markdown",
      "source": [],
      "metadata": {
        "id": "dbTCTnzeFDRy"
      }
    },
    {
      "cell_type": "code",
      "source": [
        "\n"
      ],
      "metadata": {
        "colab": {
          "base_uri": "https://localhost:8080/"
        },
        "id": "UPSHYvWybUF-",
        "outputId": "1e05815e-041d-4b6e-cc4b-f89b966b979a"
      },
      "execution_count": null,
      "outputs": [
        {
          "name": "stdout",
          "output_type": "stream",
          "text": [
            "Enter the Year: 3\n"
          ]
        }
      ]
    },
    {
      "cell_type": "markdown",
      "source": [
        "Python While loops :"
      ],
      "metadata": {
        "id": "HsPnPRUdFKah"
      }
    },
    {
      "cell_type": "code",
      "source": [
        "count = 1\n",
        "while count <= 10:\n",
        "  print(count)\n",
        "  count += 1"
      ],
      "metadata": {
        "id": "MJx-CgXMbnmq",
        "colab": {
          "base_uri": "https://localhost:8080/"
        },
        "outputId": "18dde608-6f5b-4346-a53a-60f2450ace9f"
      },
      "execution_count": null,
      "outputs": [
        {
          "output_type": "stream",
          "name": "stdout",
          "text": [
            "1\n",
            "2\n",
            "3\n",
            "4\n",
            "5\n",
            "6\n",
            "7\n",
            "8\n",
            "9\n",
            "10\n"
          ]
        }
      ]
    },
    {
      "cell_type": "code",
      "source": [
        "count = 1\n",
        "emp =[]\n",
        "while count <=5:\n",
        "  name = input('Enter your name: ')\n",
        "  emp.append(name)\n",
        "  count += 1"
      ],
      "metadata": {
        "colab": {
          "base_uri": "https://localhost:8080/"
        },
        "id": "1P9P7JrJFwk0",
        "outputId": "bebe5b3b-2666-44bc-b32f-ef724b838237"
      },
      "execution_count": null,
      "outputs": [
        {
          "name": "stdout",
          "output_type": "stream",
          "text": [
            "Enter your name: Femi\n",
            "Enter your name: zeez\n",
            "Enter your name: Jacob\n",
            "Enter your name: Idris\n",
            "Enter your name: DEji\n"
          ]
        }
      ]
    },
    {
      "cell_type": "code",
      "source": [
        "count = 1\n",
        "emp = []\n",
        "while True:\n",
        "  name = input('Enter your name: ')\n",
        "  emp.append(name)\n",
        "  if count >= 5:\n",
        "    break\n",
        "  count += 1"
      ],
      "metadata": {
        "colab": {
          "base_uri": "https://localhost:8080/"
        },
        "id": "ONwDv7AMH-IB",
        "outputId": "2f25335e-5fad-4d54-a5af-74cb1732f849"
      },
      "execution_count": null,
      "outputs": [
        {
          "name": "stdout",
          "output_type": "stream",
          "text": [
            "Enter your name: Femi\n",
            "Enter your name: Azeezat\n",
            "Enter your name: Ab\n",
            "Enter your name: Dami\n",
            "Enter your name: Cynthia\n"
          ]
        }
      ]
    },
    {
      "cell_type": "code",
      "source": [
        "while True:\n",
        "  user_input = input(\"Enter a number (or 'q' to quit): \")\n",
        "  if user_input == 'q':\n",
        "    break\n",
        "  else:\n",
        "    number = int(user_input)\n",
        "    print(\"The square of\", number, \"is\", number*number)"
      ],
      "metadata": {
        "colab": {
          "base_uri": "https://localhost:8080/"
        },
        "id": "6Eu86fxvJJLy",
        "outputId": "fe661101-4f8c-425f-d311-631762e3591c"
      },
      "execution_count": null,
      "outputs": [
        {
          "name": "stdout",
          "output_type": "stream",
          "text": [
            "Enter a number (or 'q' to quit): q\n"
          ]
        }
      ]
    },
    {
      "cell_type": "markdown",
      "source": [
        "Instructions :\n",
        "Write a program that will repeatedly ask the user for a number until the user enters a number that is greater than 100.\n",
        "\n",
        "Hint\n",
        "\n",
        "you will need to use a while loop and a variable to keep track of the user's input."
      ],
      "metadata": {
        "id": "2XHMjVkHRjAC"
      }
    },
    {
      "cell_type": "code",
      "source": [
        "while True:\n",
        "  user_number = int(input('Enter any number less than 100 or enter a number greater than 100 to quit '))\n",
        "  if user_number > 100:\n",
        "    break\n",
        "  else:\n",
        "    print(user_number)\n",
        "\n",
        "\n"
      ],
      "metadata": {
        "colab": {
          "base_uri": "https://localhost:8080/"
        },
        "id": "Z328dXKdRLPS",
        "outputId": "8b01409d-b2a8-411c-cfce-0749736659ab"
      },
      "execution_count": null,
      "outputs": [
        {
          "name": "stdout",
          "output_type": "stream",
          "text": [
            "Enter any number less than 100 or enter a number greater than 100 to quit 79\n",
            "79\n",
            "Enter any number less than 100 or enter a number greater than 100 to quit 99\n",
            "99\n",
            "Enter any number less than 100 or enter a number greater than 100 to quit 888\n"
          ]
        }
      ]
    },
    {
      "cell_type": "markdown",
      "source": [
        "How to create your function?"
      ],
      "metadata": {
        "id": "D_UFymHBWpYr"
      }
    },
    {
      "cell_type": "code",
      "source": [
        "def function_name():\n",
        "      # set of tasks\n",
        "     print(\"Hello World, this is my first function\")\n",
        "# end of function"
      ],
      "metadata": {
        "id": "XtGmgr7pWjeL"
      },
      "execution_count": null,
      "outputs": []
    },
    {
      "cell_type": "code",
      "source": [
        "function_name()"
      ],
      "metadata": {
        "colab": {
          "base_uri": "https://localhost:8080/"
        },
        "id": "3Y9HfYDuWwuR",
        "outputId": "00709ade-35b4-4e4d-8703-2e019e385e6a"
      },
      "execution_count": null,
      "outputs": [
        {
          "output_type": "stream",
          "name": "stdout",
          "text": [
            "Hello World, this is my first function\n"
          ]
        }
      ]
    },
    {
      "cell_type": "code",
      "source": [
        "def checking():\n",
        "  #checking the first letter of your name\n",
        "  name = input('enter your full name: ')\n",
        "  result = name.split(' ')[0]\n",
        "  print(result)\n",
        "\n"
      ],
      "metadata": {
        "id": "VezTFVRSW3vO"
      },
      "execution_count": null,
      "outputs": []
    },
    {
      "cell_type": "code",
      "source": [
        "checking()"
      ],
      "metadata": {
        "colab": {
          "base_uri": "https://localhost:8080/"
        },
        "id": "ERL7nHKGbptc",
        "outputId": "f185b167-ceb0-4b70-df30-e6ea13c9dbb5"
      },
      "execution_count": null,
      "outputs": [
        {
          "output_type": "stream",
          "name": "stdout",
          "text": [
            "enter your full name: Femi Ogbangwor\n",
            "Femi\n"
          ]
        }
      ]
    },
    {
      "cell_type": "markdown",
      "source": [],
      "metadata": {
        "id": "3JZ9SUjScmXd"
      }
    },
    {
      "cell_type": "code",
      "source": [
        "def my_function(parameter):\n",
        "    print(\"I want to learn \"+parameter)\n",
        "my_function(\"to code!\")  #it returns \"I want to learn to code!\"\n",
        "my_function(\"to do AI!\")  #it returns \"I want to learn to do AI!\""
      ],
      "metadata": {
        "colab": {
          "base_uri": "https://localhost:8080/"
        },
        "id": "RCzc4NzZbr2I",
        "outputId": "b18f8d57-0bbf-4587-b558-93beb835c5f7"
      },
      "execution_count": null,
      "outputs": [
        {
          "output_type": "stream",
          "name": "stdout",
          "text": [
            "I want to learn to code!\n",
            "I want to learn to do AI!\n"
          ]
        }
      ]
    },
    {
      "cell_type": "markdown",
      "source": [
        "Function with multiple parameters"
      ],
      "metadata": {
        "id": "UU89BVaqgCI4"
      }
    },
    {
      "cell_type": "code",
      "source": [
        "def Rectangle(length, breath):\n",
        "  area = length * breath\n",
        "  perimeter = 2 * (length + breath)\n",
        "  return area, perimeter"
      ],
      "metadata": {
        "id": "LzdXRiHbe3nq"
      },
      "execution_count": null,
      "outputs": []
    },
    {
      "cell_type": "code",
      "source": [
        "my_area , my_perimeter = Rectangle(5,10)"
      ],
      "metadata": {
        "id": "tgpJ7HfHhfvv"
      },
      "execution_count": null,
      "outputs": []
    },
    {
      "cell_type": "code",
      "source": [
        "def operation(x,y,z):\n",
        "      print((x+y)*z)\n",
        "operation(5,3,2) #16\n",
        "operation(5,2,3) #21\n",
        "operation(x =5, y =3, z =2)\n"
      ],
      "metadata": {
        "colab": {
          "base_uri": "https://localhost:8080/"
        },
        "id": "xjed0bWShlTQ",
        "outputId": "49da2951-da99-4ab5-8b5b-d162acd01b9a"
      },
      "execution_count": null,
      "outputs": [
        {
          "output_type": "stream",
          "name": "stdout",
          "text": [
            "16\n",
            "21\n",
            "16\n"
          ]
        }
      ]
    },
    {
      "cell_type": "markdown",
      "source": [
        "Function Default Parameter"
      ],
      "metadata": {
        "id": "5qwv_6eIlGMJ"
      }
    },
    {
      "cell_type": "code",
      "source": [
        "def my_function(country=\"Tunisia\"):\n",
        "    print(\"I am from \"+country)\n",
        "my_function(\"Maroc\")\n",
        "my_function(\"Algeria\")\n",
        "my_function()"
      ],
      "metadata": {
        "colab": {
          "base_uri": "https://localhost:8080/"
        },
        "id": "snRaQI5KkvLL",
        "outputId": "ac025143-0592-4b35-de84-01ac52bebcd3"
      },
      "execution_count": null,
      "outputs": [
        {
          "output_type": "stream",
          "name": "stdout",
          "text": [
            "I am from Maroc\n",
            "I am from Algeria\n",
            "I am from Tunisia\n"
          ]
        }
      ]
    },
    {
      "cell_type": "markdown",
      "source": [
        "The return statement"
      ],
      "metadata": {
        "id": "QN7-L70ommc_"
      }
    },
    {
      "cell_type": "code",
      "source": [
        "def minimum(a,b):\n",
        "    if a<b:\n",
        "      return(a)\n",
        "    else:\n",
        "        return(b)\n",
        "minimum(10,2) # this is not possible without return\n"
      ],
      "metadata": {
        "colab": {
          "base_uri": "https://localhost:8080/"
        },
        "id": "MTBOXQPvmnrW",
        "outputId": "aebd9f00-1e53-4751-a0b9-c0db655c3d06"
      },
      "execution_count": null,
      "outputs": [
        {
          "output_type": "execute_result",
          "data": {
            "text/plain": [
              "2"
            ]
          },
          "metadata": {},
          "execution_count": 13
        }
      ]
    },
    {
      "cell_type": "markdown",
      "source": [
        "Lambda Function"
      ],
      "metadata": {
        "id": "v3S5ytn1rOYK"
      }
    },
    {
      "cell_type": "code",
      "source": [
        "sum = lambda a,b,c : a+b+c\n",
        "print(sum(2,6,3)) #11"
      ],
      "metadata": {
        "colab": {
          "base_uri": "https://localhost:8080/"
        },
        "id": "fW3srg6lnqLo",
        "outputId": "f73fc8ef-32a9-4bc2-c40c-ae3e131461e9"
      },
      "execution_count": null,
      "outputs": [
        {
          "output_type": "stream",
          "name": "stdout",
          "text": [
            "11\n"
          ]
        }
      ]
    },
    {
      "cell_type": "code",
      "source": [
        "year = lambda ch : ch[:4]\n",
        "ch = \"20200310\"\n",
        "print(year(ch)) #2020"
      ],
      "metadata": {
        "colab": {
          "base_uri": "https://localhost:8080/"
        },
        "id": "5nou6J93rU2y",
        "outputId": "3e891a99-8e08-436d-f020-f766047b7e7d"
      },
      "execution_count": null,
      "outputs": [
        {
          "output_type": "stream",
          "name": "stdout",
          "text": [
            "2020\n"
          ]
        }
      ]
    },
    {
      "cell_type": "markdown",
      "source": [
        "Create a function that takes in an integer and sums up each number in the integer e.g 235 = 2+3+5 =10"
      ],
      "metadata": {
        "id": "yf_wWNZtv2p3"
      }
    },
    {
      "cell_type": "code",
      "source": [
        "\n",
        "def summing_numbers(number):\n",
        "  number = str(number)\n",
        "  b=0\n",
        "  for i in number:\n",
        "   a=int(i)\n",
        "   b=a+b\n",
        "  print(b)\n",
        "\n",
        "\n",
        "\n",
        "\n",
        "\n"
      ],
      "metadata": {
        "id": "sFVSq1O7rblF"
      },
      "execution_count": null,
      "outputs": []
    },
    {
      "cell_type": "code",
      "source": [
        "summing_numbers(1234)"
      ],
      "metadata": {
        "colab": {
          "base_uri": "https://localhost:8080/"
        },
        "id": "bvbwkX_hVKwi",
        "outputId": "a81587f5-ace2-4b31-a274-76eab43aaac9"
      },
      "execution_count": null,
      "outputs": [
        {
          "output_type": "stream",
          "name": "stdout",
          "text": [
            "10\n"
          ]
        }
      ]
    },
    {
      "cell_type": "code",
      "source": [
        "sum =0\n",
        "user_input = input('Enter a number:')\n",
        "new_d = list(user_input)\n",
        "while True:\n",
        "  if"
      ],
      "metadata": {
        "id": "kaSPU18sHBTy"
      },
      "execution_count": null,
      "outputs": []
    },
    {
      "cell_type": "code",
      "source": [
        "# Get input from the user\n",
        "\n"
      ],
      "metadata": {
        "colab": {
          "base_uri": "https://localhost:8080/"
        },
        "id": "551ygAOJaR7Q",
        "outputId": "af3b66bb-c9c1-462b-dede-a425911bad33"
      },
      "execution_count": null,
      "outputs": [
        {
          "output_type": "stream",
          "name": "stdout",
          "text": [
            "Enter numbers separated by spaces: 1231\n",
            "Sum of numbers: 1231\n"
          ]
        }
      ]
    },
    {
      "cell_type": "code",
      "source": [
        "def user_name(user_name):\n",
        "  names =''\n",
        "  for name in user_name:\n",
        "    random\n",
        "  print(name)"
      ],
      "metadata": {
        "id": "NOuj0aBp_M7P"
      },
      "execution_count": null,
      "outputs": []
    },
    {
      "cell_type": "code",
      "source": [
        "user_name('Femi')"
      ],
      "metadata": {
        "colab": {
          "base_uri": "https://localhost:8080/",
          "height": 250
        },
        "id": "kBlZnwILZ_1F",
        "outputId": "5e6c3ad7-af85-4efc-e9d7-4a4e3d600e5d"
      },
      "execution_count": null,
      "outputs": [
        {
          "output_type": "error",
          "ename": "NameError",
          "evalue": "name 'random' is not defined",
          "traceback": [
            "\u001b[0;31m---------------------------------------------------------------------------\u001b[0m",
            "\u001b[0;31mNameError\u001b[0m                                 Traceback (most recent call last)",
            "\u001b[0;32m<ipython-input-32-dc143c66c243>\u001b[0m in \u001b[0;36m<cell line: 1>\u001b[0;34m()\u001b[0m\n\u001b[0;32m----> 1\u001b[0;31m \u001b[0muser_name\u001b[0m\u001b[0;34m(\u001b[0m\u001b[0;34m'Femi'\u001b[0m\u001b[0;34m)\u001b[0m\u001b[0;34m\u001b[0m\u001b[0;34m\u001b[0m\u001b[0m\n\u001b[0m",
            "\u001b[0;32m<ipython-input-31-265a6bf2d130>\u001b[0m in \u001b[0;36muser_name\u001b[0;34m(user_name)\u001b[0m\n\u001b[1;32m      2\u001b[0m   \u001b[0mnames\u001b[0m \u001b[0;34m=\u001b[0m\u001b[0;34m''\u001b[0m\u001b[0;34m\u001b[0m\u001b[0;34m\u001b[0m\u001b[0m\n\u001b[1;32m      3\u001b[0m   \u001b[0;32mfor\u001b[0m \u001b[0mname\u001b[0m \u001b[0;32min\u001b[0m \u001b[0muser_name\u001b[0m\u001b[0;34m:\u001b[0m\u001b[0;34m\u001b[0m\u001b[0;34m\u001b[0m\u001b[0m\n\u001b[0;32m----> 4\u001b[0;31m     \u001b[0mrandom\u001b[0m\u001b[0;34m.\u001b[0m\u001b[0mrandom\u001b[0m\u001b[0;34m(\u001b[0m\u001b[0mname\u001b[0m\u001b[0;34m)\u001b[0m\u001b[0;34m\u001b[0m\u001b[0;34m\u001b[0m\u001b[0m\n\u001b[0m\u001b[1;32m      5\u001b[0m   \u001b[0mprint\u001b[0m\u001b[0;34m(\u001b[0m\u001b[0mname\u001b[0m\u001b[0;34m)\u001b[0m\u001b[0;34m\u001b[0m\u001b[0;34m\u001b[0m\u001b[0m\n",
            "\u001b[0;31mNameError\u001b[0m: name 'random' is not defined"
          ]
        }
      ]
    },
    {
      "cell_type": "code",
      "source": [
        "#write a python program to find those numbers which are divisle by 7 and multiples of 5 between 1500 and 2700 (both include).\n",
        "find_num = int(input('enter number'))\n",
        "num = find_num%7\n",
        "if num == 0:\n",
        "  print('number is divisible by 7')\n",
        "else:\n",
        "  print('number is not divisible by 7')"
      ],
      "metadata": {
        "colab": {
          "base_uri": "https://localhost:8080/"
        },
        "id": "Wwuk_OyAaJZO",
        "outputId": "564a7aaa-aa8c-4679-c9c9-bc1b652d8ce7"
      },
      "execution_count": null,
      "outputs": [
        {
          "output_type": "stream",
          "name": "stdout",
          "text": [
            "enter number7\n",
            "number is divisible by 7\n"
          ]
        }
      ]
    },
    {
      "cell_type": "code",
      "source": [
        "stars = 6\n",
        "for star in range(0,stars):\n",
        "  print('*' * stars)\n",
        "  num += 1\n",
        "\n",
        "\n",
        "\n"
      ],
      "metadata": {
        "colab": {
          "base_uri": "https://localhost:8080/"
        },
        "id": "OpylOk0CnADR",
        "outputId": "1d35de90-2d12-4bdc-dd48-20809fd32781"
      },
      "execution_count": null,
      "outputs": [
        {
          "output_type": "stream",
          "name": "stdout",
          "text": [
            "******\n",
            "******\n",
            "******\n",
            "******\n",
            "******\n",
            "******\n"
          ]
        }
      ]
    },
    {
      "cell_type": "code",
      "source": [
        "\n",
        "\n",
        "star1 = int(input('Enter number of stars: '))\n",
        "star2 = int(input('Enter the number of stars: '))\n",
        "symbol = input('Enter a symbol')\n",
        "for star in  range(star1):\n",
        "  for star in range(star2):\n",
        "    print(symbol, end='')\n",
        "print()"
      ],
      "metadata": {
        "id": "bScq2KC1tO4O"
      },
      "execution_count": null,
      "outputs": []
    },
    {
      "cell_type": "code",
      "source": [
        "num = 5\n",
        "for i in range(0, num+1):\n",
        "  print('*'* i)\n",
        "for i in range(num-1,0,-1):\n",
        "  print('*'* i)"
      ],
      "metadata": {
        "colab": {
          "base_uri": "https://localhost:8080/"
        },
        "id": "09GIBNBb092w",
        "outputId": "f8a2409d-f530-479f-d58d-c4257d7a65bd"
      },
      "execution_count": null,
      "outputs": [
        {
          "output_type": "stream",
          "name": "stdout",
          "text": [
            "\n",
            "*\n",
            "**\n",
            "***\n",
            "****\n",
            "*****\n",
            "****\n",
            "***\n",
            "**\n",
            "*\n"
          ]
        }
      ]
    },
    {
      "cell_type": "code",
      "source": [
        "user_input = input('Enter user number: ')\n",
        "sum =0\n",
        "for num in user_input:\n",
        "  sum = sum + int(num)\n",
        "print(sum)"
      ],
      "metadata": {
        "id": "sjbfzUzf11YC",
        "colab": {
          "base_uri": "https://localhost:8080/"
        },
        "outputId": "7e684c13-e43c-4d38-ae95-4dda6fa91411"
      },
      "execution_count": null,
      "outputs": [
        {
          "output_type": "stream",
          "name": "stdout",
          "text": [
            "Enter user number: 234\n",
            "9\n"
          ]
        }
      ]
    },
    {
      "cell_type": "code",
      "source": [
        "def get_largest_numbers(numbers, n):\n",
        "  numbers.sort()\n",
        "\n",
        "  return numbers[-n:]\n",
        "nums = [2,3,4,1.34,123,321,1]\n",
        "print(nums)\n",
        "largest = get_largest_numbers(nums, 2)\n",
        "print(nums)"
      ],
      "metadata": {
        "colab": {
          "base_uri": "https://localhost:8080/"
        },
        "id": "hX5qM6iozS83",
        "outputId": "2caee314-6c0f-48d2-ce82-fab8f4088fb3"
      },
      "execution_count": null,
      "outputs": [
        {
          "output_type": "stream",
          "name": "stdout",
          "text": [
            "[2, 3, 4, 1.34, 123, 321, 1]\n",
            "[1, 1.34, 2, 3, 4, 123, 321]\n"
          ]
        }
      ]
    },
    {
      "cell_type": "code",
      "source": [],
      "metadata": {
        "id": "PwLC4oeg2OcY"
      },
      "execution_count": null,
      "outputs": []
    },
    {
      "cell_type": "code",
      "source": [
        "x = [i for i in range(10)]\n",
        "print(x)"
      ],
      "metadata": {
        "colab": {
          "base_uri": "https://localhost:8080/"
        },
        "id": "iYJCNRU53-L5",
        "outputId": "d2696e66-7a0e-4699-a510-ee97ec74d87f"
      },
      "execution_count": null,
      "outputs": [
        {
          "output_type": "stream",
          "name": "stdout",
          "text": [
            "[0, 1, 2, 3, 4, 5, 6, 7, 8, 9]\n"
          ]
        }
      ]
    },
    {
      "cell_type": "code",
      "source": [
        "x =[[] for i in range(10)]\n",
        "print(x)"
      ],
      "metadata": {
        "colab": {
          "base_uri": "https://localhost:8080/"
        },
        "id": "dS-nZhNg4LwW",
        "outputId": "2943dd2a-ef11-4daf-dcb1-c7725895b227"
      },
      "execution_count": null,
      "outputs": [
        {
          "output_type": "stream",
          "name": "stdout",
          "text": [
            "[[], [], [], [], [], [], [], [], [], []]\n"
          ]
        }
      ]
    },
    {
      "cell_type": "code",
      "source": [
        "x = [[j for j in range(5)] for i in range(10)]\n",
        "print(x)"
      ],
      "metadata": {
        "colab": {
          "base_uri": "https://localhost:8080/"
        },
        "id": "jm2iH8Ni4Yj0",
        "outputId": "6a98dac0-6fa6-4145-c36c-6cb246670e9a"
      },
      "execution_count": null,
      "outputs": [
        {
          "output_type": "stream",
          "name": "stdout",
          "text": [
            "[[0, 1, 2, 3, 4], [0, 1, 2, 3, 4], [0, 1, 2, 3, 4], [0, 1, 2, 3, 4], [0, 1, 2, 3, 4], [0, 1, 2, 3, 4], [0, 1, 2, 3, 4], [0, 1, 2, 3, 4], [0, 1, 2, 3, 4], [0, 1, 2, 3, 4]]\n"
          ]
        }
      ]
    },
    {
      "cell_type": "code",
      "source": [
        "x = [i for i in range(10) if i %2 ==0]\n",
        "print(x)"
      ],
      "metadata": {
        "colab": {
          "base_uri": "https://localhost:8080/"
        },
        "id": "IFN4BIsw47S_",
        "outputId": "b71b0d71-06e5-464f-be42-4932b77b3649"
      },
      "execution_count": null,
      "outputs": [
        {
          "output_type": "stream",
          "name": "stdout",
          "text": [
            "[0, 2, 4, 6, 8]\n"
          ]
        }
      ]
    },
    {
      "cell_type": "code",
      "source": [
        "def complicated_function(x,y, z=10):\n",
        "  print(x,y,z)\n",
        "  pass\n"
      ],
      "metadata": {
        "id": "iXlZx9-U51zT"
      },
      "execution_count": null,
      "outputs": []
    },
    {
      "cell_type": "code",
      "source": [
        "complicated_function(1,2)"
      ],
      "metadata": {
        "colab": {
          "base_uri": "https://localhost:8080/"
        },
        "id": "AwhV5x5A7SEg",
        "outputId": "dd8eaaf3-d14e-4fa0-e78a-ddb3dbdee305"
      },
      "execution_count": null,
      "outputs": [
        {
          "output_type": "stream",
          "name": "stdout",
          "text": [
            "1 2 10\n"
          ]
        }
      ]
    },
    {
      "cell_type": "code",
      "source": [
        "# adding *args means you can add as many number of positional arguments as posible\n",
        "def complicated_function(x,y, *args):\n",
        "  print(x,y,args)\n",
        "  pass"
      ],
      "metadata": {
        "id": "ZW3WOeMA7VVE"
      },
      "execution_count": null,
      "outputs": []
    },
    {
      "cell_type": "code",
      "source": [
        "complicated_function(1,23,4,6,75,10)"
      ],
      "metadata": {
        "colab": {
          "base_uri": "https://localhost:8080/"
        },
        "id": "g8K1qXhs8D7Z",
        "outputId": "6bcdff59-2eca-4b88-b025-c1bc53a9f153"
      },
      "execution_count": null,
      "outputs": [
        {
          "output_type": "stream",
          "name": "stdout",
          "text": [
            "1 23 (4, 6, 75, 10)\n"
          ]
        }
      ]
    },
    {
      "cell_type": "code",
      "source": [
        "# using as many keywords argument\n",
        "def complicated_function(*args, **kwargs):\n",
        "  print(args, kwargs)\n",
        "  pass\n"
      ],
      "metadata": {
        "id": "kzPP7nr68Un3"
      },
      "execution_count": null,
      "outputs": []
    },
    {
      "cell_type": "code",
      "source": [
        "complicated_function(1,2,3,4, x= 5, s='hello', b= False)"
      ],
      "metadata": {
        "colab": {
          "base_uri": "https://localhost:8080/"
        },
        "id": "Suy5S1Tq9TgM",
        "outputId": "4b5ab0fd-9535-420d-fce3-51df722486a3"
      },
      "execution_count": null,
      "outputs": [
        {
          "output_type": "stream",
          "name": "stdout",
          "text": [
            "(1, 2, 3, 4) {'x': 5, 's': 'hello', 'b': False}\n"
          ]
        }
      ]
    },
    {
      "cell_type": "code",
      "source": [
        "values =[]\n",
        "for x in range(10):\n",
        "  values.append(x)\n",
        "print(values)"
      ],
      "metadata": {
        "colab": {
          "base_uri": "https://localhost:8080/"
        },
        "id": "3naSw2uo9pOj",
        "outputId": "ca791b19-0a8e-493d-8c63-880550e01098"
      },
      "execution_count": null,
      "outputs": [
        {
          "output_type": "stream",
          "name": "stdout",
          "text": [
            "[0, 1, 2, 3, 4, 5, 6, 7, 8, 9]\n"
          ]
        }
      ]
    },
    {
      "cell_type": "code",
      "source": [
        "#Using List comprehension\n",
        "values = [x for x in range(10)]\n",
        "print(values)"
      ],
      "metadata": {
        "colab": {
          "base_uri": "https://localhost:8080/"
        },
        "id": "ZfmGbqG8fkFa",
        "outputId": "54f33c17-26a7-4f11-bac6-c3ab5862c64b"
      },
      "execution_count": null,
      "outputs": [
        {
          "output_type": "stream",
          "name": "stdout",
          "text": [
            "[0, 1, 2, 3, 4, 5, 6, 7, 8, 9]\n"
          ]
        }
      ]
    },
    {
      "cell_type": "code",
      "source": [
        "#Using List comprehension\n",
        "values = [x + 1 for x in range(10)]\n",
        "print(values)"
      ],
      "metadata": {
        "colab": {
          "base_uri": "https://localhost:8080/"
        },
        "id": "dcTFpnTmf9Rc",
        "outputId": "34066528-0636-4cef-b99f-00cb20d9644b"
      },
      "execution_count": null,
      "outputs": [
        {
          "output_type": "stream",
          "name": "stdout",
          "text": [
            "[1, 2, 3, 4, 5, 6, 7, 8, 9, 10]\n"
          ]
        }
      ]
    },
    {
      "cell_type": "code",
      "source": [
        "#Comprehension Condition\n",
        "#Get all of the even numbers from -50\n",
        "evens =[]\n",
        "for number in range(50):\n",
        "  is_even = number % 2 == 0\n",
        "  if is_even:\n",
        "    evens.append(number)\n",
        "print(evens)"
      ],
      "metadata": {
        "colab": {
          "base_uri": "https://localhost:8080/"
        },
        "id": "V6NclMQCgqNJ",
        "outputId": "2695e909-9af1-4af5-d273-f4482154d66f"
      },
      "execution_count": null,
      "outputs": [
        {
          "output_type": "stream",
          "name": "stdout",
          "text": [
            "[0, 2, 4, 6, 8, 10, 12, 14, 16, 18, 20, 22, 24, 26, 28, 30, 32, 34, 36, 38, 40, 42, 44, 46, 48]\n"
          ]
        }
      ]
    },
    {
      "cell_type": "code",
      "source": [
        "evens = [number for number in range(50) if number % 2 == 0]\n",
        "print(evens)"
      ],
      "metadata": {
        "colab": {
          "base_uri": "https://localhost:8080/"
        },
        "id": "G0a0TqtYiuoD",
        "outputId": "2055a7f3-6b64-4239-af5c-e73f44d380d1"
      },
      "execution_count": null,
      "outputs": [
        {
          "output_type": "stream",
          "name": "stdout",
          "text": [
            "[0, 2, 4, 6, 8, 10, 12, 14, 16, 18, 20, 22, 24, 26, 28, 30, 32, 34, 36, 38, 40, 42, 44, 46, 48]\n"
          ]
        }
      ]
    },
    {
      "cell_type": "code",
      "source": [
        "# strings that start with 'a' and end in 'y'\n",
        "options =['any', 'albany', 'apple', 'world', 'hello','']\n",
        "valid_strings = []\n",
        "for string in options:\n",
        "  if len(string) <= 1:\n",
        "    continue\n",
        "\n",
        "  if string[0] != 'a':\n",
        "    continue\n",
        "\n",
        "  if string[-1] != 'y':\n",
        "    continue\n",
        "\n",
        "  valid_strings.append(string)\n",
        "\n",
        "print(valid_strings)"
      ],
      "metadata": {
        "colab": {
          "base_uri": "https://localhost:8080/"
        },
        "id": "UudoHCty08Y1",
        "outputId": "66fdf1b8-28f2-405c-c0ae-e913fdcd1f78"
      },
      "execution_count": null,
      "outputs": [
        {
          "output_type": "stream",
          "name": "stdout",
          "text": [
            "['any', 'albany']\n"
          ]
        }
      ]
    },
    {
      "cell_type": "code",
      "source": [
        "#Comprehension with multiple condition\n",
        "options =['any', 'albany', 'apple', 'world', 'hello','']\n",
        "valid_strings = [\n",
        "    string\n",
        "    for string in options\n",
        "    if len(string) >= 2\n",
        "    if string[0] == 'a'\n",
        "    if string[-1] == 'y'\n",
        "]\n",
        "print(valid_strings)"
      ],
      "metadata": {
        "colab": {
          "base_uri": "https://localhost:8080/"
        },
        "id": "VqPWPN0Q4E1w",
        "outputId": "0cf9011b-32ea-4825-f16e-873648923c6e"
      },
      "execution_count": null,
      "outputs": [
        {
          "output_type": "stream",
          "name": "stdout",
          "text": [
            "['any', 'albany']\n"
          ]
        }
      ]
    },
    {
      "cell_type": "code",
      "source": [
        "#Flattening a matrix (list of list)\n",
        "matrix = [[1,2,3], [4,5,6], [7,8,9]]\n",
        "flattened = []\n",
        "\n",
        "for row in matrix:\n",
        "  for num in row:\n",
        "    flattened.append(num)\n",
        "    print(num, end=' ')"
      ],
      "metadata": {
        "colab": {
          "base_uri": "https://localhost:8080/"
        },
        "id": "I7R-1vbEcZhU",
        "outputId": "c4589e4e-0342-4885-923c-e76ef9db6e64"
      },
      "execution_count": null,
      "outputs": [
        {
          "output_type": "stream",
          "name": "stdout",
          "text": [
            "1 2 3 4 5 6 7 8 9 "
          ]
        }
      ]
    },
    {
      "cell_type": "code",
      "source": [
        "#Multiple list comprehension\n",
        "#Nexted list comprehension\n",
        "flattened = [num for row in matrix for num in row]\n",
        "print(flattened)"
      ],
      "metadata": {
        "colab": {
          "base_uri": "https://localhost:8080/"
        },
        "id": "mfJna52NrIQl",
        "outputId": "813b88b2-888c-4017-9118-86d503adc382"
      },
      "execution_count": null,
      "outputs": [
        {
          "output_type": "stream",
          "name": "stdout",
          "text": [
            "[1, 2, 3, 4, 5, 6, 7, 8, 9]\n"
          ]
        }
      ]
    },
    {
      "cell_type": "code",
      "source": [
        "# Categorise number as even or odd\n",
        "categories = []\n",
        "\n",
        "for number in range(10):\n",
        "  if number % 2 == 0:\n",
        "    categories.append('Even')\n",
        "  else:\n",
        "    categories.append('Odd')\n",
        "\n",
        "print(categories)"
      ],
      "metadata": {
        "colab": {
          "base_uri": "https://localhost:8080/"
        },
        "id": "-0NvS8HvsNGA",
        "outputId": "18148136-c03b-49d4-d8d8-2b4890fcdb4a"
      },
      "execution_count": null,
      "outputs": [
        {
          "output_type": "stream",
          "name": "stdout",
          "text": [
            "['Even', 'Odd', 'Even', 'Odd', 'Even', 'Odd', 'Even', 'Odd', 'Even', 'Odd']\n"
          ]
        }
      ]
    },
    {
      "cell_type": "code",
      "source": [
        "# If/Else in a Comprehension\n",
        "categories = [\n",
        "    'even' if  x % 2 == 0 else 'Odd' for x in range(10)\n",
        "]\n",
        "\n",
        "print(categories)"
      ],
      "metadata": {
        "colab": {
          "base_uri": "https://localhost:8080/"
        },
        "id": "FnJdCfB0vBhD",
        "outputId": "7df3fe45-ba80-4b0c-af1f-a8a475a0e8b4"
      },
      "execution_count": null,
      "outputs": [
        {
          "output_type": "stream",
          "name": "stdout",
          "text": [
            "['even', 'Odd', 'even', 'Odd', 'even', 'Odd', 'even', 'Odd', 'even', 'Odd']\n"
          ]
        }
      ]
    },
    {
      "cell_type": "code",
      "source": [
        "\n",
        "# build a 3D list\n",
        "\n",
        "import pprint\n",
        "\n",
        "printer =pprint.PrettyPrinter()\n",
        "\n",
        "lst = []\n",
        "\n",
        "for a in range(5):\n",
        "    l1 =[]\n",
        "    for b in range(5):\n",
        "        l2 = []\n",
        "        for num in range(5):\n",
        "            l2.append(num)\n",
        "        l1.append(l2)\n",
        "\n",
        "    lst.append (l1)\n",
        "\n",
        "printer.pprint(lst)"
      ],
      "metadata": {
        "colab": {
          "base_uri": "https://localhost:8080/"
        },
        "id": "O18Ye8TpxEWi",
        "outputId": "e9589f7f-72d7-48a2-edd9-7d6db95d9380"
      },
      "execution_count": null,
      "outputs": [
        {
          "output_type": "stream",
          "name": "stdout",
          "text": [
            "[[[0, 1, 2, 3, 4],\n",
            "  [0, 1, 2, 3, 4],\n",
            "  [0, 1, 2, 3, 4],\n",
            "  [0, 1, 2, 3, 4],\n",
            "  [0, 1, 2, 3, 4]],\n",
            " [[0, 1, 2, 3, 4],\n",
            "  [0, 1, 2, 3, 4],\n",
            "  [0, 1, 2, 3, 4],\n",
            "  [0, 1, 2, 3, 4],\n",
            "  [0, 1, 2, 3, 4]],\n",
            " [[0, 1, 2, 3, 4],\n",
            "  [0, 1, 2, 3, 4],\n",
            "  [0, 1, 2, 3, 4],\n",
            "  [0, 1, 2, 3, 4],\n",
            "  [0, 1, 2, 3, 4]],\n",
            " [[0, 1, 2, 3, 4],\n",
            "  [0, 1, 2, 3, 4],\n",
            "  [0, 1, 2, 3, 4],\n",
            "  [0, 1, 2, 3, 4],\n",
            "  [0, 1, 2, 3, 4]],\n",
            " [[0, 1, 2, 3, 4],\n",
            "  [0, 1, 2, 3, 4],\n",
            "  [0, 1, 2, 3, 4],\n",
            "  [0, 1, 2, 3, 4],\n",
            "  [0, 1, 2, 3, 4]]]\n"
          ]
        }
      ]
    },
    {
      "cell_type": "code",
      "source": [
        "#Nexted List Comprehension\n",
        "lst =[[[num for num in range(6)] for _ in range(6)] for _ in range(6)]\n",
        "\n",
        "printer.pprint(lst)"
      ],
      "metadata": {
        "colab": {
          "base_uri": "https://localhost:8080/"
        },
        "id": "5cEv7FEeIIjn",
        "outputId": "c212be75-fc6b-409a-fdeb-c5a334769f58"
      },
      "execution_count": null,
      "outputs": [
        {
          "output_type": "stream",
          "name": "stdout",
          "text": [
            "[[[0, 1, 2, 3, 4, 5],\n",
            "  [0, 1, 2, 3, 4, 5],\n",
            "  [0, 1, 2, 3, 4, 5],\n",
            "  [0, 1, 2, 3, 4, 5],\n",
            "  [0, 1, 2, 3, 4, 5],\n",
            "  [0, 1, 2, 3, 4, 5]],\n",
            " [[0, 1, 2, 3, 4, 5],\n",
            "  [0, 1, 2, 3, 4, 5],\n",
            "  [0, 1, 2, 3, 4, 5],\n",
            "  [0, 1, 2, 3, 4, 5],\n",
            "  [0, 1, 2, 3, 4, 5],\n",
            "  [0, 1, 2, 3, 4, 5]],\n",
            " [[0, 1, 2, 3, 4, 5],\n",
            "  [0, 1, 2, 3, 4, 5],\n",
            "  [0, 1, 2, 3, 4, 5],\n",
            "  [0, 1, 2, 3, 4, 5],\n",
            "  [0, 1, 2, 3, 4, 5],\n",
            "  [0, 1, 2, 3, 4, 5]],\n",
            " [[0, 1, 2, 3, 4, 5],\n",
            "  [0, 1, 2, 3, 4, 5],\n",
            "  [0, 1, 2, 3, 4, 5],\n",
            "  [0, 1, 2, 3, 4, 5],\n",
            "  [0, 1, 2, 3, 4, 5],\n",
            "  [0, 1, 2, 3, 4, 5]],\n",
            " [[0, 1, 2, 3, 4, 5],\n",
            "  [0, 1, 2, 3, 4, 5],\n",
            "  [0, 1, 2, 3, 4, 5],\n",
            "  [0, 1, 2, 3, 4, 5],\n",
            "  [0, 1, 2, 3, 4, 5],\n",
            "  [0, 1, 2, 3, 4, 5]],\n",
            " [[0, 1, 2, 3, 4, 5],\n",
            "  [0, 1, 2, 3, 4, 5],\n",
            "  [0, 1, 2, 3, 4, 5],\n",
            "  [0, 1, 2, 3, 4, 5],\n",
            "  [0, 1, 2, 3, 4, 5],\n",
            "  [0, 1, 2, 3, 4, 5]]]\n"
          ]
        }
      ]
    },
    {
      "cell_type": "code",
      "source": [
        "#Creating a shopping list\n",
        "\n",
        "shopping_list = []\n",
        "while True:\n",
        "  user_selection = input('Enter your selection e.g Add, Remove, View or Exit: ')\n",
        "  if user_selection == 'Add':\n",
        "    for item in range(5):\n",
        "      items = input('What item would you like to add to your shopping list? or Type Exit to stop Adding: ')\n",
        "      if items == 'Exit':\n",
        "        break\n",
        "      shopping_list.append(items)\n",
        "  elif user_selection == 'Remove':\n",
        "    items = input('What item would you like to remove?: ')\n",
        "    shopping_list.remove(items)\n",
        "  elif user_selection == 'View':\n",
        "    print(shopping_list)\n",
        "  elif user_selection == 'Exit':\n",
        "    print('Thank You')\n",
        "    break\n",
        "  else:\n",
        "    print('Please make i proper selelction')"
      ],
      "metadata": {
        "colab": {
          "base_uri": "https://localhost:8080/"
        },
        "id": "NMXTtSYSM1gk",
        "outputId": "446a7c36-0b80-458e-f2e2-b5665ba39fb3"
      },
      "execution_count": 20,
      "outputs": [
        {
          "output_type": "stream",
          "name": "stdout",
          "text": [
            "Enter your selection e.g Add, Remove, View or Exit: Add\n",
            "What item would you like to add to your shopping list? or Type Exit to stop Adding: A\n",
            "What item would you like to add to your shopping list? or Type Exit to stop Adding: B\n",
            "What item would you like to add to your shopping list? or Type Exit to stop Adding: C\n",
            "What item would you like to add to your shopping list? or Type Exit to stop Adding: Exit\n",
            "Enter your selection e.g Add, Remove, View or Exit: Remove\n",
            "What item would you like to remove?: A\n",
            "Enter your selection e.g Add, Remove, View or Exit: View\n",
            "['B', 'C']\n",
            "Enter your selection e.g Add, Remove, View or Exit: Exit\n",
            "Thank You\n"
          ]
        }
      ]
    },
    {
      "cell_type": "code",
      "source": [
        "name = input('Please enter your name: ')\n",
        "age = int(input('please enter your age: '))\n",
        "\n",
        "while name ==\"\":\n",
        "   name = input('Please enter your name: ')\n",
        "else:\n",
        "    print(f\"Your name is {name}\")\n",
        "while age <= 0:\n",
        "  age = int(input('please enter your age: '))\n",
        "else:\n",
        "  print(f\"Your age is: {age}\")\n",
        "print()\n",
        "print(f\"your name is: {name} and your age is: {age}. Its a pleasure meeting you\")"
      ],
      "metadata": {
        "colab": {
          "base_uri": "https://localhost:8080/"
        },
        "id": "NKCF5YPeTIGE",
        "outputId": "cc2dea99-9fb2-4173-d39d-e263cb3cd0d6"
      },
      "execution_count": null,
      "outputs": [
        {
          "output_type": "stream",
          "name": "stdout",
          "text": [
            "Please enter your name: famo\n",
            "please enter your age: 7\n",
            "Your name is famo\n",
            "Your age is: 7\n",
            "\n",
            "your name is: famo and your age is: 7. Its a pleasure meeting you\n"
          ]
        }
      ]
    },
    {
      "cell_type": "code",
      "source": [
        "food = input(\"enter a food you like: (Quit with letter q)\")\n",
        "\n",
        "while not food == \"q\":\n",
        "  print(f\"You like {food}\")\n",
        "  food = input(\"enter a food you like: (Quit with letter q)\")\n",
        "else:\n",
        "  print(\"Okay, bye\")"
      ],
      "metadata": {
        "colab": {
          "base_uri": "https://localhost:8080/"
        },
        "id": "mE1jx9hjbRb0",
        "outputId": "7fe32e6a-c2cd-4ac9-ae80-f42eee19536c"
      },
      "execution_count": null,
      "outputs": [
        {
          "output_type": "stream",
          "name": "stdout",
          "text": [
            "enter a food you like: (Quit with letter q)Rice\n",
            "You like Rice\n",
            "enter a food you like: (Quit with letter q)Eba\n",
            "You like Eba\n",
            "enter a food you like: (Quit with letter q)q\n",
            "Okay, bye\n"
          ]
        }
      ]
    },
    {
      "cell_type": "code",
      "source": [
        "num = int(input(\"Enter a number between 1 and 10\"))\n",
        "\n",
        "while num <1 or num > 10:\n",
        "  print(f\"{num} is not valid, enter a valid number\")\n",
        "  num = int(input(\"Enter a number between 1 and 10\"))\n",
        "\n",
        "print()\n",
        "print(num)"
      ],
      "metadata": {
        "colab": {
          "base_uri": "https://localhost:8080/"
        },
        "id": "wq7jP3kXc1MY",
        "outputId": "e483b6a5-be58-4104-e783-0b4fe9587637"
      },
      "execution_count": null,
      "outputs": [
        {
          "output_type": "stream",
          "name": "stdout",
          "text": [
            "Enter a number between 1 and 109\n",
            "\n",
            "9\n"
          ]
        }
      ]
    },
    {
      "cell_type": "markdown",
      "source": [
        "1. As a python programmer in a company, develop a programthat\n",
        "counts the letters in the first name of people. If the length of the nameisgreater than or equal to 10, print ‘your name is more than 10 letters’, else if the name is between 5 and 10 words print ‘your name is not solong’, else if the name is less than 5 print ‘the name is too short’."
      ],
      "metadata": {
        "id": "3pt2m4qcFKOC"
      }
    },
    {
      "cell_type": "code",
      "source": [
        "letter_count = input(\"Enter name\")\n",
        "if len(letter_count) >= 10:\n",
        "  print(\"your name is more than 10 letters\")\n",
        "elif len(letter_count) > 5 and len(letter_count)  < 10:\n",
        "  print(\"your name is not solong\")\n",
        "elif len(letter_count) < 5:\n",
        "  print(\"the name is too short\")"
      ],
      "metadata": {
        "colab": {
          "base_uri": "https://localhost:8080/"
        },
        "id": "5yWrhWTd3A_7",
        "outputId": "6a68fb32-66c0-4256-9f6a-f35f401ecd67"
      },
      "execution_count": null,
      "outputs": [
        {
          "output_type": "stream",
          "name": "stdout",
          "text": [
            "Enter namefemi\n",
            "the name is too short\n"
          ]
        }
      ]
    },
    {
      "cell_type": "markdown",
      "source": [
        "2. Write a simple function to determine the area of a circle. Use thepi inmath module."
      ],
      "metadata": {
        "id": "iR8BiWvlJstq"
      }
    },
    {
      "cell_type": "code",
      "source": [
        "import math\n"
      ],
      "metadata": {
        "id": "WdgIJ2COHyoL"
      },
      "execution_count": null,
      "outputs": []
    },
    {
      "cell_type": "code",
      "source": [
        "\n",
        "def area(radius):\n",
        "  area = math.pi *radius**2\n",
        "  print(area)"
      ],
      "metadata": {
        "id": "fXBs4Pn4MqD0"
      },
      "execution_count": null,
      "outputs": []
    },
    {
      "cell_type": "code",
      "source": [
        "\n",
        "area(7)"
      ],
      "metadata": {
        "colab": {
          "base_uri": "https://localhost:8080/"
        },
        "id": "tLy15sdUM3yQ",
        "outputId": "389924a0-7876-4a57-f89a-0678750f19ce"
      },
      "execution_count": null,
      "outputs": [
        {
          "output_type": "stream",
          "name": "stdout",
          "text": [
            "153.93804002589985\n"
          ]
        }
      ]
    },
    {
      "cell_type": "markdown",
      "source": [
        "3. Write a Python program to find the largest element in a list. Donot usethe max method for this question. E.g in the list [43,21,53,16,13,31,22], 53 is the highest."
      ],
      "metadata": {
        "id": "pWSxhPEZPiQi"
      }
    },
    {
      "cell_type": "code",
      "source": [
        "nums = [43,21,53,16,13,31,22]\n",
        "count = 0\n",
        "for num in nums:\n",
        "  if num > count:\n",
        "    count = num\n",
        "print(count)"
      ],
      "metadata": {
        "colab": {
          "base_uri": "https://localhost:8080/"
        },
        "id": "2T7h6UKdM5AT",
        "outputId": "c993d16f-5776-4283-80ac-a3bc988b7fec"
      },
      "execution_count": null,
      "outputs": [
        {
          "output_type": "stream",
          "name": "stdout",
          "text": [
            "53\n"
          ]
        }
      ]
    },
    {
      "cell_type": "markdown",
      "source": [
        "4. Write a Python program to find the smallest element in a list. Donot\n",
        "use the min method for this question. E.g in thelist\n",
        "[43,21,53,16,13,31,22], 13 is the highest."
      ],
      "metadata": {
        "id": "GwNJDpgySKf4"
      }
    },
    {
      "cell_type": "code",
      "source": [
        "nums = [43,21,53,16,13,31,22]\n",
        "count = nums[0]\n",
        "for num in nums:\n",
        "  if num < count:\n",
        "    count = num\n",
        "print(count)"
      ],
      "metadata": {
        "colab": {
          "base_uri": "https://localhost:8080/"
        },
        "id": "ErU5eSLhQiQ7",
        "outputId": "f4a5379b-521b-42b2-8ef6-1ca630858bfc"
      },
      "execution_count": null,
      "outputs": [
        {
          "output_type": "stream",
          "name": "stdout",
          "text": [
            "13\n"
          ]
        }
      ]
    },
    {
      "cell_type": "markdown",
      "source": [
        "5. Write a Python program to check if a number is even"
      ],
      "metadata": {
        "id": "qiyhmZdsUGEc"
      }
    },
    {
      "cell_type": "code",
      "source": [
        "number = int(input(\"Enter number: \"))\n",
        "if number % 2 == 0:\n",
        "  print(\" number is Even\")\n",
        "else:\n",
        "  print(\"Number is Odd\")"
      ],
      "metadata": {
        "colab": {
          "base_uri": "https://localhost:8080/"
        },
        "id": "8UwFbjMfSnRo",
        "outputId": "848bacba-e341-4ed9-f1c0-07bf9f401b0f"
      },
      "execution_count": null,
      "outputs": [
        {
          "output_type": "stream",
          "name": "stdout",
          "text": [
            "Enter number: 7\n",
            "Number is Odd\n"
          ]
        }
      ]
    },
    {
      "cell_type": "markdown",
      "source": [
        "6. A = [‘shola’, ‘susan’, ‘bolu’,’tola’,’wunmi’, ‘aishat’,’fatimah’,’grace’]\n",
        "B = [‘peter’,’paul’,’fatimah’,’wunmi’, ,’yomi’, ‘aishat’]\n",
        "Write a Python program to find the common elements betweenthe two lists, put them in a new list called C and print themout."
      ],
      "metadata": {
        "id": "CpufmgJlVCnb"
      }
    },
    {
      "cell_type": "code",
      "source": [
        "A = set([\"shola\", \"susan\", \"bolu\", \"tola\", \"wunmi\", \"aishat\", \"fatimah\", \"grace\"])\n",
        "B = set([\"peter\",\"paul\",\"fatimah\",\"wunmi\", \"yomi\", \"aishat\"])\n",
        "C = A.intersection(B)\n",
        "print(C)"
      ],
      "metadata": {
        "colab": {
          "base_uri": "https://localhost:8080/"
        },
        "id": "4CZj1IaOVCBQ",
        "outputId": "27897f10-4acf-4e50-829c-54561c12d3a7"
      },
      "execution_count": null,
      "outputs": [
        {
          "output_type": "stream",
          "name": "stdout",
          "text": [
            "{'wunmi', 'aishat', 'fatimah'}\n"
          ]
        }
      ]
    },
    {
      "cell_type": "markdown",
      "source": [
        "7. Write a Python program to remove duplicates froma list. Donot useset as a shortcut, instead write a well detailed program. E.g we have a list A [1,4,2,6,2,7,2,8,5,3,4,5,3], ensure that we haveanewlist without the duplicates."
      ],
      "metadata": {
        "id": "rN6367wAavZ6"
      }
    },
    {
      "cell_type": "code",
      "source": [
        "A = [1,4,2,6,2,7,2,8,5,3,4,5,3]\n",
        "B = []\n",
        "for i in A:\n",
        "  if i not in B:\n",
        "    B.append(i)\n",
        "print(B)\n"
      ],
      "metadata": {
        "colab": {
          "base_uri": "https://localhost:8080/"
        },
        "id": "uSI0hnzMU6-4",
        "outputId": "31d4b603-5269-41a6-af7c-e8abe3180fce"
      },
      "execution_count": null,
      "outputs": [
        {
          "output_type": "stream",
          "name": "stdout",
          "text": [
            "[1, 4, 2, 6, 7, 8, 5, 3]\n"
          ]
        }
      ]
    },
    {
      "cell_type": "markdown",
      "source": [
        "8. Write a Python program to find the list of words that are longer than4from a given list of words\n",
        "E.g [‘shola’, ‘susan’, ‘bolu’,’tola’,’wunmi’, ‘aishat’,’fatimah’,’grace’]"
      ],
      "metadata": {
        "id": "f8LpPU5iinLt"
      }
    },
    {
      "cell_type": "code",
      "source": [
        "word_list = [\"shola\", \"susan\", \"bolu\",\"tola\",\"wunmi\", \"aishat\",\"fatimah\",\"grace\"]\n",
        "for word in word_list:\n",
        "  if len(word) > 4 :\n",
        "    print(word)"
      ],
      "metadata": {
        "colab": {
          "base_uri": "https://localhost:8080/"
        },
        "id": "2DpbZUVifxLv",
        "outputId": "84835cfc-79df-47ff-cb2b-33ed7c7cfc4a"
      },
      "execution_count": null,
      "outputs": [
        {
          "output_type": "stream",
          "name": "stdout",
          "text": [
            "shola\n",
            "susan\n",
            "wunmi\n",
            "aishat\n",
            "fatimah\n",
            "grace\n"
          ]
        }
      ]
    },
    {
      "cell_type": "markdown",
      "source": [
        "9. Using the random module, create a program that randomly guessesthe qualification of people froma list\n",
        "[‘Msc’,’Bsc’,’Phd’,’B.Edu’,’B.Tech’,’B.doc’], remember to use thechoicemethod in random module."
      ],
      "metadata": {
        "id": "71bnoUFSkxk6"
      }
    },
    {
      "cell_type": "markdown",
      "source": [
        "**Lambda Function**"
      ],
      "metadata": {
        "id": "qSZUGkR8F53-"
      }
    },
    {
      "cell_type": "code",
      "source": [
        "sum = lambda a,b,c : a+b+c\n",
        "print(sum(2,6,3)) #11"
      ],
      "metadata": {
        "id": "8O8IcsP7ksJB"
      },
      "execution_count": null,
      "outputs": []
    },
    {
      "cell_type": "code",
      "source": [
        "year = lambda ch : ch[:4]\n",
        "ch = \"20200310\"\n",
        "print(year(ch)) #2020"
      ],
      "metadata": {
        "colab": {
          "base_uri": "https://localhost:8080/"
        },
        "id": "MIDF2IMyGD-Z",
        "outputId": "3c1a42f4-cb62-4235-e88f-ba431c6433b8"
      },
      "execution_count": 22,
      "outputs": [
        {
          "output_type": "stream",
          "name": "stdout",
          "text": [
            "2020\n"
          ]
        }
      ]
    },
    {
      "cell_type": "markdown",
      "source": [
        "Instructions :\n",
        "Write a program that will take a number and returns its double using a lambda function.\n",
        "Hint: you will need to use the lambda function to perform the multiplication operation."
      ],
      "metadata": {
        "id": "yK2HVg69HDs-"
      }
    },
    {
      "cell_type": "code",
      "source": [
        "double =lambda num: num*num\n",
        "print(double(2))"
      ],
      "metadata": {
        "colab": {
          "base_uri": "https://localhost:8080/"
        },
        "id": "uJXtRw9JGwzI",
        "outputId": "79ef4012-dc85-4d46-e161-0b6404825b82"
      },
      "execution_count": 26,
      "outputs": [
        {
          "output_type": "stream",
          "name": "stdout",
          "text": [
            "4\n"
          ]
        }
      ]
    },
    {
      "cell_type": "markdown",
      "source": [
        "**The map function :**"
      ],
      "metadata": {
        "id": "uF918R_vP_pD"
      }
    },
    {
      "cell_type": "code",
      "source": [
        "numbers = [1, 2, 3, 4, 5]\n",
        "squared_numbers = map(lambda x: x*x, numbers)\n",
        "print(list(squared_numbers))"
      ],
      "metadata": {
        "colab": {
          "base_uri": "https://localhost:8080/"
        },
        "id": "eUD3zRBwHoK7",
        "outputId": "40647d21-4579-488f-907e-bad4afb82905"
      },
      "execution_count": 28,
      "outputs": [
        {
          "output_type": "stream",
          "name": "stdout",
          "text": [
            "[1, 4, 9, 16, 25]\n"
          ]
        }
      ]
    },
    {
      "cell_type": "markdown",
      "source": [
        "Instructions :\n",
        "Write a program that will take a list of temperatures in Celsius and convert them to Fahrenheit using the formula: F = (9/5)C + 32\n",
        "Hint: you will need to use the map() function and the lambda function to perform the conversion."
      ],
      "metadata": {
        "id": "HwPVQYL9RVKe"
      }
    },
    {
      "cell_type": "code",
      "source": [
        "tem = [90,60, 10, 20]\n",
        "convert_to_fah = map(lambda cel: (9/5) * cel + 32, tem)\n",
        "print(list(convert_to_fah))"
      ],
      "metadata": {
        "colab": {
          "base_uri": "https://localhost:8080/"
        },
        "id": "XskWLGvQQG5E",
        "outputId": "74caa8b1-bedb-4d82-faf2-6e2512afd650"
      },
      "execution_count": 40,
      "outputs": [
        {
          "output_type": "stream",
          "name": "stdout",
          "text": [
            "[194.0, 140.0, 50.0, 68.0]\n"
          ]
        }
      ]
    },
    {
      "cell_type": "markdown",
      "source": [],
      "metadata": {
        "id": "BZ1WmAxtuNCM"
      }
    },
    {
      "cell_type": "code",
      "source": [
        "#Creating four basic mathematical functions\n",
        "def add(num1,num2):\n",
        "  sum_nums = num1 + num2\n",
        "  return sum_nums\n",
        "\n",
        "def subtract(num1, num2):\n",
        "  dif = num1 - num2\n",
        "  return dif\n",
        "\n",
        "def multiply(num1, num2):\n",
        "  mul = num1 * num2\n",
        "  return mul\n",
        "\n",
        "def divide(num1, num2):\n",
        "  div = num1 / num2\n",
        "  return div\n",
        "\n",
        "# Creating a dictionary called operations\n",
        "operations = {\"add\": add, \"subtract\" : subtract, \"multiply\" : multiply, \"divide\" : divide}\n",
        "\n",
        "\n",
        "# function to get user first & second input\n",
        "def get_user_input():\n",
        "  first_input = float(input('Input first number'))\n",
        "  second_input = float(input('Input second number'))\n",
        "  return first_input, second_input\n",
        "\n",
        "\n",
        "# looping throug the operations dictionary to diplace all operation\n",
        "print('Below are the available operations')\n",
        "for key in operations:\n",
        "  print(key)\n",
        "\n",
        "while True:\n",
        "  operation_type = input(\"What would you like to do? 'add', 'subtract', 'multiply', 'divide' or 'exit' to quit\")\n",
        "  if operation_type == 'exit':\n",
        "    print('Ending...')\n",
        "    break\n",
        "  elif operation_type in operations:\n",
        "    user_nums = get_user_input()\n",
        "    result = operations[operation_type](*user_nums)\n",
        "    print(f\" The Result of {operation_type}  is {result}\")\n",
        "  else:\n",
        "    print('Invalid input')"
      ],
      "metadata": {
        "id": "mRbM3zkyu0JI",
        "outputId": "d3a4d6af-b7a6-406e-f222-c87344b3fcc4",
        "colab": {
          "base_uri": "https://localhost:8080/"
        }
      },
      "execution_count": 4,
      "outputs": [
        {
          "output_type": "stream",
          "name": "stdout",
          "text": [
            "Below are the available operations\n",
            "add\n",
            "subtract\n",
            "multiply\n",
            "divide\n",
            "What would you like to do? 'add', 'subtract', 'multiply', 'divide' or 'exit' to quitadd\n",
            "Input first number7\n",
            "Input second number10\n",
            " The Result of add  is 17.0\n",
            "What would you like to do? 'add', 'subtract', 'multiply', 'divide' or 'exit' to quitExit\n",
            "Invalid input\n",
            "What would you like to do? 'add', 'subtract', 'multiply', 'divide' or 'exit' to quitexit\n",
            "Ending...\n"
          ]
        }
      ]
    },
    {
      "cell_type": "markdown",
      "source": [
        "**Create our own class :**"
      ],
      "metadata": {
        "id": "fsnyAgceGItx"
      }
    },
    {
      "cell_type": "markdown",
      "source": [
        "Create our own class :"
      ],
      "metadata": {
        "id": "h5PBYPbHGILY"
      }
    },
    {
      "cell_type": "code",
      "source": [
        "class Player:\n",
        "  def __init__(self, name, age):\n",
        "    self.name = name\n",
        "    self.age = age\n",
        "    self.hp = 100\n",
        "  def run(self):\n",
        "    print(f\"{self.name} is running in the game.\")\n",
        "  def take_damage(self, damage):\n",
        "    return self.hp - damage\n",
        "  def speak(self):\n",
        "        print(f\"My name is {self.name} and I am {self.age} years old.\")"
      ],
      "metadata": {
        "id": "htuDaSWVdndX"
      },
      "execution_count": 3,
      "outputs": []
    },
    {
      "cell_type": "code",
      "source": [
        "Player_one = Player(\"Harry Potter\",30)\n",
        "Player_two = Player (\"Lord Voldemort\",18)\n",
        "print(Player_one.name)\n",
        "print(Player_two.name)\n",
        "print(Player_one.run())\n",
        "print(Player_two.run())\n",
        "print(Player_one.take_damage(20))\n",
        "player1 = Player(\"John\", 25)\n",
        "player1.run() # Output: \"John is running in the game.\"\n",
        "player1.speak() # Output: \"My name is John and I am 25 years old.\""
      ],
      "metadata": {
        "id": "TfClBGoZB6Lb",
        "outputId": "7df3de1b-b9c4-4ff9-92dc-6986d53d47e9",
        "colab": {
          "base_uri": "https://localhost:8080/"
        }
      },
      "execution_count": 6,
      "outputs": [
        {
          "output_type": "stream",
          "name": "stdout",
          "text": [
            "Harry Potter\n",
            "Lord Voldemort\n",
            "Harry Potter is running in the game.\n",
            "None\n",
            "Lord Voldemort is running in the game.\n",
            "None\n",
            "80\n",
            "John is running in the game.\n",
            "My name is John and I am 25 years old.\n"
          ]
        }
      ]
    },
    {
      "cell_type": "code",
      "source": [
        "# create a student class that takes in the name, age, color and state.\n",
        "#The student class should have a method that prints the attributes together in  a statement.\n",
        "# Add a method called checking_age that checks if the age is less than or greater than 18.\n",
        "# If  it is greater or equal 18 print \"You are allowed to enter \" else if it is less than 18, print \"You are underaged\"\n",
        "class Student:\n",
        "  def __init__(self, name, age, state, color):\n",
        "    self.name = name\n",
        "    self.age = age\n",
        "    self.color = color\n",
        "    self.state = state\n",
        "  def print_info(self):\n",
        "    print(f\" My name is {self.name}, i am {self.age}, i am from {self.state} and my favorite color is {self.color}\")\n",
        "  def checking_age(self):\n",
        "    if self.age >= 18:\n",
        "      print(\"You are allowed to enter\")\n",
        "    else:\n",
        "      print(\"You are underaged\")\n"
      ],
      "metadata": {
        "id": "EmZomxATynMg"
      },
      "execution_count": 9,
      "outputs": []
    },
    {
      "cell_type": "code",
      "source": [
        "student1 = Student(\"Femi\", 10, \"lagos\", \"Blue\")\n",
        "student1.checking_age()"
      ],
      "metadata": {
        "id": "SFAizkMtj2Kp",
        "outputId": "09256e81-7e32-4dfa-90f7-596d7e47ca80",
        "colab": {
          "base_uri": "https://localhost:8080/"
        }
      },
      "execution_count": 12,
      "outputs": [
        {
          "output_type": "stream",
          "name": "stdout",
          "text": [
            "You are underaged\n"
          ]
        }
      ]
    },
    {
      "cell_type": "code",
      "source": [
        "# 1. Write a Python class named Point3D defined by x, y, and z. Define a method that returns (x, y ,z).\n",
        "# This tells Python to represent this object in the following format: (x, y, z).\n",
        "# Then create a variable named my_point containing a new instance of Point3D with x=1, y=2, and z=3 and print it.\n",
        "\n",
        "class Point3D:\n",
        "  def __init__(self,x, y, z):\n",
        "    self.x = x\n",
        "    self.y = y\n",
        "    self.z = z\n",
        "  def call_init(self):\n",
        "    return self.x, self.y, self.z\n",
        "my_point = Point3D(1,2,3)\n",
        "\n",
        "print(my_point.call_init())"
      ],
      "metadata": {
        "id": "UPWkiFzplp28",
        "outputId": "6d6b14d4-6cb2-4e93-b94c-5857d641d2c2",
        "colab": {
          "base_uri": "https://localhost:8080/"
        }
      },
      "execution_count": 4,
      "outputs": [
        {
          "output_type": "stream",
          "name": "stdout",
          "text": [
            "(1, 2, 3)\n"
          ]
        }
      ]
    },
    {
      "cell_type": "code",
      "source": [
        "# 2. Write a Python class named Rectangle constructed by a length and width.\n",
        "# Define two methods, area and perimeter, which will compute the area and the perimeter of the rectangle.\n",
        "# Then create a variable named my_rectangle containing a new instance of Rectangle with width=3 and length = 4\n",
        "# and compute both area and perimeter ( the area is expected to be 3*4=12 and perimeter 2*(3+4)=14).\n",
        "\n",
        "class Rectangle:\n",
        "  def __init__(self, length, width):\n",
        "    self.length = length\n",
        "    self.width = width\n",
        "  def area(self):\n",
        "    area = self.length * self.width\n",
        "    return area\n",
        "  def perimeter(self):\n",
        "    perimeter = (2*self.length) + (2*self.width)\n",
        "    return perimeter\n",
        "  def AandP(self):\n",
        "    print(f\"The area of a Rectangle is: {self.area()} and the perimeter is {self.perimeter()}\")\n"
      ],
      "metadata": {
        "id": "d5vtIwc_-Dic"
      },
      "execution_count": 21,
      "outputs": []
    },
    {
      "cell_type": "code",
      "source": [
        "my_rectangle = Rectangle(4, 3)"
      ],
      "metadata": {
        "id": "nfXk-fdCp7bL"
      },
      "execution_count": 22,
      "outputs": []
    },
    {
      "cell_type": "code",
      "source": [
        "my_rectangle.AandP()\n"
      ],
      "metadata": {
        "id": "3G0MUUc0rq2t",
        "outputId": "eb618def-0f00-4ba0-8fe3-250dfb788180",
        "colab": {
          "base_uri": "https://localhost:8080/"
        }
      },
      "execution_count": 23,
      "outputs": [
        {
          "output_type": "stream",
          "name": "stdout",
          "text": [
            "The area of a Rectangle is: 12 and the perimeter is 14\n"
          ]
        }
      ]
    },
    {
      "cell_type": "code",
      "source": [
        "my_rectangle.perimeter()"
      ],
      "metadata": {
        "id": "S4oIUjKgXmy1",
        "outputId": "c2a774f2-5526-4305-dce4-83faf7341a3f",
        "colab": {
          "base_uri": "https://localhost:8080/"
        }
      },
      "execution_count": 24,
      "outputs": [
        {
          "output_type": "execute_result",
          "data": {
            "text/plain": [
              "14"
            ]
          },
          "metadata": {},
          "execution_count": 24
        }
      ]
    },
    {
      "cell_type": "code",
      "source": [
        "# Develop a simplified social media platform using classes.\n",
        "# Design methods for users to posts and comments,  view their posts or comments.\n",
        "# These users can also try to view the posts and comments of everyone that has used the code.\n",
        "# Make sure to use list, dictionaries\n",
        "class Instagram:\n",
        "  def __init__(self, name):\n",
        "    self.name = name\n",
        "\n",
        "  def post(self):\n",
        "    user_post = input(\"Type something to post on your page\")\n",
        "    self.view_posts.append(user_post)\n",
        "    return user_post\n",
        "  def comment(self):\n",
        "    user_comment = input(\"Comment on post\")\n",
        "    self.view_user_comment.append(user_comment)\n",
        "    return user_comment\n",
        "  def view_posts(self):\n",
        "    view_user_post = []\n",
        "    return view_user_post\n",
        "  def view_comments(self):\n",
        "    view_user_comment = []\n",
        "    return view_user_comment\n",
        "  def posts_and_comments(self):\n",
        "    posts = {'posts': view_posts, 'comment': view_user_comment}\n",
        "    return posts"
      ],
      "metadata": {
        "id": "BnupV-Y5pWmk"
      },
      "execution_count": 25,
      "outputs": []
    },
    {
      "cell_type": "code",
      "source": [
        "#Building A Todo list\n",
        "\n",
        "# Initialize an empty task list\n",
        "tasks = []\n",
        "\n",
        "# Function to add a task\n",
        "def add_task():\n",
        "    task = input(\"Enter a task: \")\n",
        "    tasks.append(task)\n",
        "    print(\"Task added successfully!\")\n",
        "\n",
        "# Function to display tasks\n",
        "def display_tasks():\n",
        "    if not tasks:\n",
        "        print(\"No tasks found.\")\n",
        "    else:\n",
        "        print(\"Tasks:\")\n",
        "        for index, task in enumerate(tasks, start=1):\n",
        "            print(f\"{index}. {task}\")\n",
        "\n",
        "# Function to mark a task as complete\n",
        "def complete_task():\n",
        "    display_tasks()\n",
        "    index = int(input(\"Enter the task number to mark as complete: \")) - 1\n",
        "    if 0 <= index < len(tasks):\n",
        "        tasks[index] += \" (Completed)\"\n",
        "        print(\"Task marked as complete!\")\n",
        "    else:\n",
        "        print(\"Invalid task number.\")\n",
        "\n",
        "# Function to delete a task\n",
        "def delete_task():\n",
        "    display_tasks()\n",
        "    index = int(input(\"Enter the task number to delete: \")) - 1\n",
        "    if 0 <= index < len(tasks):\n",
        "        del tasks[index]\n",
        "        print(\"Task deleted successfully!\")\n",
        "    else:\n",
        "        print(\"Invalid task number.\")\n",
        "\n",
        "# Main loop for interacting with the user\n",
        "while True:\n",
        "    print(\"\\nOptions:\")\n",
        "    print(\"1. Add Task\")\n",
        "    print(\"2. Display Tasks\")\n",
        "    print(\"3. Mark Task as Complete\")\n",
        "    print(\"4. Delete Task\")\n",
        "    print(\"5. Exit\")\n",
        "\n",
        "    choice = input(\"Enter your choice: \")\n",
        "\n",
        "    if choice == '1':\n",
        "        add_task()\n",
        "    elif choice == '2':\n",
        "        display_tasks()\n",
        "    elif choice == '3':\n",
        "        complete_task()\n",
        "    elif choice == '4':\n",
        "        delete_task()\n",
        "    elif choice == '5':\n",
        "        print(\"Exiting program. Goodbye!\")\n",
        "        break\n",
        "    else:\n",
        "        print(\"Invalid choice. Please try again.\")\n"
      ],
      "metadata": {
        "id": "RuqzMjlr1TAT",
        "outputId": "10d60ce9-795e-43f0-89d2-d97989b5e9b7",
        "colab": {
          "base_uri": "https://localhost:8080/",
          "height": 967
        }
      },
      "execution_count": 1,
      "outputs": [
        {
          "output_type": "stream",
          "name": "stdout",
          "text": [
            "\n",
            "Options:\n",
            "1. Add Task\n",
            "2. Display Tasks\n",
            "3. Mark Task as Complete\n",
            "4. Delete Task\n",
            "5. Exit\n",
            "Enter your choice: Add Task\n",
            "Invalid choice. Please try again.\n",
            "\n",
            "Options:\n",
            "1. Add Task\n",
            "2. Display Tasks\n",
            "3. Mark Task as Complete\n",
            "4. Delete Task\n",
            "5. Exit\n",
            "Enter your choice: Add Task\n",
            "Invalid choice. Please try again.\n",
            "\n",
            "Options:\n",
            "1. Add Task\n",
            "2. Display Tasks\n",
            "3. Mark Task as Complete\n",
            "4. Delete Task\n",
            "5. Exit\n",
            "Enter your choice: Exit\n",
            "Invalid choice. Please try again.\n",
            "\n",
            "Options:\n",
            "1. Add Task\n",
            "2. Display Tasks\n",
            "3. Mark Task as Complete\n",
            "4. Delete Task\n",
            "5. Exit\n"
          ]
        },
        {
          "output_type": "error",
          "ename": "KeyboardInterrupt",
          "evalue": "Interrupted by user",
          "traceback": [
            "\u001b[0;31m---------------------------------------------------------------------------\u001b[0m",
            "\u001b[0;31mKeyboardInterrupt\u001b[0m                         Traceback (most recent call last)",
            "\u001b[0;32m<ipython-input-1-895069af54c3>\u001b[0m in \u001b[0;36m<cell line: 40>\u001b[0;34m()\u001b[0m\n\u001b[1;32m     46\u001b[0m     \u001b[0mprint\u001b[0m\u001b[0;34m(\u001b[0m\u001b[0;34m\"5. Exit\"\u001b[0m\u001b[0;34m)\u001b[0m\u001b[0;34m\u001b[0m\u001b[0;34m\u001b[0m\u001b[0m\n\u001b[1;32m     47\u001b[0m \u001b[0;34m\u001b[0m\u001b[0m\n\u001b[0;32m---> 48\u001b[0;31m     \u001b[0mchoice\u001b[0m \u001b[0;34m=\u001b[0m \u001b[0minput\u001b[0m\u001b[0;34m(\u001b[0m\u001b[0;34m\"Enter your choice: \"\u001b[0m\u001b[0;34m)\u001b[0m\u001b[0;34m\u001b[0m\u001b[0;34m\u001b[0m\u001b[0m\n\u001b[0m\u001b[1;32m     49\u001b[0m \u001b[0;34m\u001b[0m\u001b[0m\n\u001b[1;32m     50\u001b[0m     \u001b[0;32mif\u001b[0m \u001b[0mchoice\u001b[0m \u001b[0;34m==\u001b[0m \u001b[0;34m'1'\u001b[0m\u001b[0;34m:\u001b[0m\u001b[0;34m\u001b[0m\u001b[0;34m\u001b[0m\u001b[0m\n",
            "\u001b[0;32m/usr/local/lib/python3.10/dist-packages/ipykernel/kernelbase.py\u001b[0m in \u001b[0;36mraw_input\u001b[0;34m(self, prompt)\u001b[0m\n\u001b[1;32m    849\u001b[0m                 \u001b[0;34m\"raw_input was called, but this frontend does not support input requests.\"\u001b[0m\u001b[0;34m\u001b[0m\u001b[0;34m\u001b[0m\u001b[0m\n\u001b[1;32m    850\u001b[0m             )\n\u001b[0;32m--> 851\u001b[0;31m         return self._input_request(str(prompt),\n\u001b[0m\u001b[1;32m    852\u001b[0m             \u001b[0mself\u001b[0m\u001b[0;34m.\u001b[0m\u001b[0m_parent_ident\u001b[0m\u001b[0;34m,\u001b[0m\u001b[0;34m\u001b[0m\u001b[0;34m\u001b[0m\u001b[0m\n\u001b[1;32m    853\u001b[0m             \u001b[0mself\u001b[0m\u001b[0;34m.\u001b[0m\u001b[0m_parent_header\u001b[0m\u001b[0;34m,\u001b[0m\u001b[0;34m\u001b[0m\u001b[0;34m\u001b[0m\u001b[0m\n",
            "\u001b[0;32m/usr/local/lib/python3.10/dist-packages/ipykernel/kernelbase.py\u001b[0m in \u001b[0;36m_input_request\u001b[0;34m(self, prompt, ident, parent, password)\u001b[0m\n\u001b[1;32m    893\u001b[0m             \u001b[0;32mexcept\u001b[0m \u001b[0mKeyboardInterrupt\u001b[0m\u001b[0;34m:\u001b[0m\u001b[0;34m\u001b[0m\u001b[0;34m\u001b[0m\u001b[0m\n\u001b[1;32m    894\u001b[0m                 \u001b[0;31m# re-raise KeyboardInterrupt, to truncate traceback\u001b[0m\u001b[0;34m\u001b[0m\u001b[0;34m\u001b[0m\u001b[0m\n\u001b[0;32m--> 895\u001b[0;31m                 \u001b[0;32mraise\u001b[0m \u001b[0mKeyboardInterrupt\u001b[0m\u001b[0;34m(\u001b[0m\u001b[0;34m\"Interrupted by user\"\u001b[0m\u001b[0;34m)\u001b[0m \u001b[0;32mfrom\u001b[0m \u001b[0;32mNone\u001b[0m\u001b[0;34m\u001b[0m\u001b[0;34m\u001b[0m\u001b[0m\n\u001b[0m\u001b[1;32m    896\u001b[0m             \u001b[0;32mexcept\u001b[0m \u001b[0mException\u001b[0m \u001b[0;32mas\u001b[0m \u001b[0me\u001b[0m\u001b[0;34m:\u001b[0m\u001b[0;34m\u001b[0m\u001b[0;34m\u001b[0m\u001b[0m\n\u001b[1;32m    897\u001b[0m                 \u001b[0mself\u001b[0m\u001b[0;34m.\u001b[0m\u001b[0mlog\u001b[0m\u001b[0;34m.\u001b[0m\u001b[0mwarning\u001b[0m\u001b[0;34m(\u001b[0m\u001b[0;34m\"Invalid Message:\"\u001b[0m\u001b[0;34m,\u001b[0m \u001b[0mexc_info\u001b[0m\u001b[0;34m=\u001b[0m\u001b[0;32mTrue\u001b[0m\u001b[0;34m)\u001b[0m\u001b[0;34m\u001b[0m\u001b[0;34m\u001b[0m\u001b[0m\n",
            "\u001b[0;31mKeyboardInterrupt\u001b[0m: Interrupted by user"
          ]
        }
      ]
    },
    {
      "cell_type": "code",
      "source": [],
      "metadata": {
        "id": "MU6m3YRXTnEy"
      },
      "execution_count": null,
      "outputs": []
    }
  ],
  "metadata": {
    "colab": {
      "provenance": [],
      "authorship_tag": "ABX9TyMz0l91JGv1acB/VcHcFtws",
      "include_colab_link": true
    },
    "kernelspec": {
      "display_name": "Python 3",
      "name": "python3"
    },
    "language_info": {
      "name": "python"
    }
  },
  "nbformat": 4,
  "nbformat_minor": 0
}